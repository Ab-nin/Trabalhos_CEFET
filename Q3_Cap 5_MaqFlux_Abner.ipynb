{
 "cells": [
  {
   "cell_type": "markdown",
   "id": "8f9f4a14-940d-4f60-b64e-db602b5119bf",
   "metadata": {},
   "source": [
    "# Trabalho de Máquinas de Fluxo"
   ]
  },
  {
   "cell_type": "markdown",
   "id": "03acd164-cf85-416d-a60b-e96d781d50b0",
   "metadata": {},
   "source": [
    "Aluno: Abner Vieira Pereira</br>\n",
    "Matrícula: 1923495GMEC"
   ]
  },
  {
   "cell_type": "markdown",
   "id": "2b973e33-b5fc-42bb-ac12-7e347eb98c90",
   "metadata": {},
   "source": [
    "---"
   ]
  },
  {
   "cell_type": "markdown",
   "id": "e44072a4-b685-458c-b90b-43471fcab6f4",
   "metadata": {},
   "source": [
    "A questão a ser resolvida no presente trabalho corresponde ao terceiro exercício proposto do capítulo 5 do livro Máquinas de Fluido, do autor Érico Antônio Lopes Henn."
   ]
  },
  {
   "cell_type": "markdown",
   "id": "1d102604-95a2-492f-a432-5ac1c2853d3b",
   "metadata": {},
   "source": [
    "# Sumário\n",
    "\n",
    "- [Enunciado](#enunciado)\n",
    "- [Item a](#item-a)\n",
    "- [Item b](#item-b)\n",
    "- [Item c](#item-c)"
   ]
  },
  {
   "cell_type": "markdown",
   "id": "f16b9de2-56f9-4262-b00c-486ba00f61e2",
   "metadata": {},
   "source": [
    "#### Enunciado <a id='enunciado'></a>"
   ]
  },
  {
   "cell_type": "markdown",
   "id": "5fc3b44a-445b-4978-8822-815701f8681e",
   "metadata": {},
   "source": [
    "**Q3.** Os dados de uma usina hidrelétrica na qual será instalada uma turbina hidráulica do tipo Francis são os seguintes: Q = 312 m$^{2}$/s; H = 80 m; D$_{4}$ = 6,85 m; n = 112,5 rpm; P$_{e}$ = 220,28 MW. No laboratório de ensaios, dispôe-se de um reservatório de nível constante com queda disponível de 6,5 m e vazão de 0,08 m$^{2}$/s. Pretendendo-se projetar e ensaiar um modelo reduzido no laboratório, pergunta-se:\n",
    "\n",
    "a) qual deverá ser o diâmetro de entrada do rotor no modelo?</br>\n",
    "b) com que velocidade de rotação deverá ser realizado o ensaio?</br>\n",
    "c) qual a potência que será medida pelo freio dinamométrico, considerando-se o efeito de escala sobre o rendimento?"
   ]
  },
  {
   "cell_type": "code",
   "execution_count": 1,
   "id": "5f900089-7cbb-4cb3-b38a-822961a3455a",
   "metadata": {
    "tags": []
   },
   "outputs": [],
   "source": [
    "#fazendo as importações das bibliotecas \n",
    "from sympy import *\n",
    "import sympy as sy\n",
    "from numpy import *\n",
    "import numpy as np"
   ]
  },
  {
   "cell_type": "code",
   "execution_count": 2,
   "id": "52d3ad22-8fe7-4b16-9edf-30c9a904d9f4",
   "metadata": {
    "tags": []
   },
   "outputs": [],
   "source": [
    "#declarando as variáveis envolvidas no problema\n",
    "qp,qm,dp,yp,dm,ym,g,hp,hm,np,nm,pem,pep = sy.symbols('Q_p Q_m D_p Y_p D_m Y_m g H_p H_m np nm P_{em} P_{ep}')"
   ]
  },
  {
   "cell_type": "code",
   "execution_count": 3,
   "id": "f144aa2b-39f6-4b1a-9f11-a7854c6582d5",
   "metadata": {
    "tags": []
   },
   "outputs": [],
   "source": [
    "#criando um dicionário com os valores fornecidos pelo enunciado\n",
    "dic = {qp:312, dp:6.85, g:9.81, hp:80, hm:6.5, qm:0.08, np:(112.5/60)}"
   ]
  },
  {
   "cell_type": "markdown",
   "id": "d2e95fd8-51c1-4772-9e1d-be42226406e7",
   "metadata": {},
   "source": [
    "Com as informações extraídas do enunciado é possível determinar o salto energético específico do protótipo e do modelo, através das seguintes relações:"
   ]
  },
  {
   "cell_type": "code",
   "execution_count": 4,
   "id": "9ea33706-174a-4bb7-8b9a-711229b51207",
   "metadata": {
    "tags": []
   },
   "outputs": [
    {
     "data": {
      "text/latex": [
       "$\\displaystyle H_{p} g$"
      ],
      "text/plain": [
       "H_p*g"
      ]
     },
     "execution_count": 4,
     "metadata": {},
     "output_type": "execute_result"
    }
   ],
   "source": [
    "yp = hp*g\n",
    "yp"
   ]
  },
  {
   "cell_type": "code",
   "execution_count": 5,
   "id": "46593c04-2e02-4701-ae29-961a815f03cb",
   "metadata": {
    "tags": []
   },
   "outputs": [
    {
     "name": "stdout",
     "output_type": "stream",
     "text": [
      "A energia específica do protótipo vale 784.80 J/kg.\n"
     ]
    }
   ],
   "source": [
    "print(f'A energia específica do protótipo vale {yp.subs(dic).round(2)} J/kg.')"
   ]
  },
  {
   "cell_type": "code",
   "execution_count": 6,
   "id": "235919d0-8074-4f22-972d-3a8d94c95e25",
   "metadata": {
    "tags": []
   },
   "outputs": [
    {
     "data": {
      "text/latex": [
       "$\\displaystyle H_{m} g$"
      ],
      "text/plain": [
       "H_m*g"
      ]
     },
     "execution_count": 6,
     "metadata": {},
     "output_type": "execute_result"
    }
   ],
   "source": [
    "ym = hm*g\n",
    "ym"
   ]
  },
  {
   "cell_type": "code",
   "execution_count": 7,
   "id": "0be4d8f3-042e-4458-b0c6-6ca643cd4533",
   "metadata": {
    "tags": []
   },
   "outputs": [
    {
     "name": "stdout",
     "output_type": "stream",
     "text": [
      "A energia específica do modelo vale 63.765 J/kg.\n"
     ]
    }
   ],
   "source": [
    "print(f'A energia específica do modelo vale {ym.subs(dic).round(3)} J/kg.')"
   ]
  },
  {
   "cell_type": "markdown",
   "id": "32a02cbf-5f8b-4e6a-985a-97763825cb19",
   "metadata": {},
   "source": [
    "Tendo em vista que o problema envolve a análise de duas máquinas semelhantes, a técnica mais indicada para resolvê-lo é a envolvendo relações das grandezas biunitárias."
   ]
  },
  {
   "cell_type": "markdown",
   "id": "58a23e85-b4b4-4d6d-bf96-32170b1bbfaa",
   "metadata": {},
   "source": [
    "#### Item a <a id='item-a'></a>"
   ]
  },
  {
   "cell_type": "markdown",
   "id": "66a05fa3-ff0b-4fab-921b-6ce241565e1a",
   "metadata": {},
   "source": [
    "A resolução deste item se deu através da utilização da fórmula 5.24, que será postulada a seguir:"
   ]
  },
  {
   "cell_type": "code",
   "execution_count": 8,
   "id": "0d2f79e0-32fd-4a85-b8fb-d5d3e473f4da",
   "metadata": {
    "tags": []
   },
   "outputs": [],
   "source": [
    "le = qp / ((dp**2)*(yp**(1/2)))\n",
    "ld = qm / ((dm**2)*(ym**(1/2)))"
   ]
  },
  {
   "cell_type": "code",
   "execution_count": 9,
   "id": "ba0fdb3a-acac-43eb-b53f-1732815e3eab",
   "metadata": {
    "tags": []
   },
   "outputs": [
    {
     "data": {
      "text/latex": [
       "$\\displaystyle \\frac{Q_{p}}{D_{p}^{2} \\left(H_{p} g\\right)^{0.5}} = \\frac{Q_{m}}{D_{m}^{2} \\left(H_{m} g\\right)^{0.5}}$"
      ],
      "text/plain": [
       "Eq(Q_p/(D_p**2*(H_p*g)**0.5), Q_m/(D_m**2*(H_m*g)**0.5))"
      ]
     },
     "execution_count": 9,
     "metadata": {},
     "output_type": "execute_result"
    }
   ],
   "source": [
    "eq_1 = sy.Eq(le, ld)\n",
    "eq_1"
   ]
  },
  {
   "cell_type": "markdown",
   "id": "56f2033a-b775-490c-ad76-7feeff164e98",
   "metadata": {},
   "source": [
    "Isolando Dm, tem-se:"
   ]
  },
  {
   "cell_type": "code",
   "execution_count": 10,
   "id": "0aa51a74-93bd-49ad-b964-e5c1972e03af",
   "metadata": {
    "tags": []
   },
   "outputs": [
    {
     "data": {
      "text/latex": [
       "$\\displaystyle D_{p} \\sqrt{\\frac{Q_{m} \\left(H_{p} g\\right)^{0.5}}{Q_{p} \\left(H_{m} g\\right)^{0.5}}}$"
      ],
      "text/plain": [
       "D_p*sqrt(Q_m*(H_p*g)**0.5/(Q_p*(H_m*g)**0.5))"
      ]
     },
     "execution_count": 10,
     "metadata": {},
     "output_type": "execute_result"
    }
   ],
   "source": [
    "sol = sy.solve(eq_1,dm)[1]\n",
    "sol"
   ]
  },
  {
   "cell_type": "code",
   "execution_count": 11,
   "id": "1e56b76a-1987-4f24-a725-5d0a02726fa8",
   "metadata": {
    "tags": []
   },
   "outputs": [
    {
     "data": {
      "text/latex": [
       "$\\displaystyle 0.2054$"
      ],
      "text/plain": [
       "0.2054"
      ]
     },
     "execution_count": 11,
     "metadata": {},
     "output_type": "execute_result"
    }
   ],
   "source": [
    "sol1_num = sol.subs(dic)\n",
    "dm4 = sol1_num.evalf().round(4)\n",
    "dm4"
   ]
  },
  {
   "cell_type": "code",
   "execution_count": 12,
   "id": "cd098763-2e33-4eba-8415-61d812544b82",
   "metadata": {
    "tags": []
   },
   "outputs": [
    {
     "name": "stdout",
     "output_type": "stream",
     "text": [
      "O modelo possui um diâmetro, D4m, igual a 0.2054 m ou 205.4 mm.\n"
     ]
    }
   ],
   "source": [
    "print(f'O modelo possui um diâmetro, D4m, igual a {dm4} m ou {dm4 * 1000} mm.')"
   ]
  },
  {
   "cell_type": "markdown",
   "id": "b669407b-fedc-4b42-9235-9c0490e4ae76",
   "metadata": {},
   "source": [
    "#### Item b <a id='item-b'></a>"
   ]
  },
  {
   "cell_type": "markdown",
   "id": "4a03d9c5-455f-4e59-aaa0-20c56ebf0f96",
   "metadata": {},
   "source": [
    "A resolução deste item se deu através da relação 5.22, exposta abaixo:"
   ]
  },
  {
   "cell_type": "code",
   "execution_count": 13,
   "id": "4aaa145b-d359-475f-b82a-5c605fab8607",
   "metadata": {
    "tags": []
   },
   "outputs": [],
   "source": [
    "le2 = (np*dp) / (yp**(1/2))\n",
    "ld2 = (nm*dm) / (ym**(1/2))"
   ]
  },
  {
   "cell_type": "code",
   "execution_count": 14,
   "id": "edb8dd39-a7a7-4898-8875-e4d1fe382b90",
   "metadata": {
    "tags": []
   },
   "outputs": [
    {
     "data": {
      "text/latex": [
       "$\\displaystyle \\frac{D_{p} np}{\\left(H_{p} g\\right)^{0.5}} = \\frac{D_{m} nm}{\\left(H_{m} g\\right)^{0.5}}$"
      ],
      "text/plain": [
       "Eq(D_p*np/(H_p*g)**0.5, D_m*nm/(H_m*g)**0.5)"
      ]
     },
     "execution_count": 14,
     "metadata": {},
     "output_type": "execute_result"
    }
   ],
   "source": [
    "eq_2 = sy.Eq(le2,ld2)\n",
    "eq_2"
   ]
  },
  {
   "cell_type": "markdown",
   "id": "585918e0-cd73-44dc-b09c-db332c320a82",
   "metadata": {},
   "source": [
    "Isolando nm, tem-se:"
   ]
  },
  {
   "cell_type": "code",
   "execution_count": 15,
   "id": "f5ee57df-9bf3-4b5c-b798-e2304923becf",
   "metadata": {
    "tags": []
   },
   "outputs": [
    {
     "data": {
      "text/latex": [
       "$\\displaystyle \\frac{D_{p} np \\sqrt{H_{m} g}}{D_{m} \\sqrt{H_{p} g}}$"
      ],
      "text/plain": [
       "D_p*np*sqrt(H_m*g)/(D_m*sqrt(H_p*g))"
      ]
     },
     "execution_count": 15,
     "metadata": {},
     "output_type": "execute_result"
    }
   ],
   "source": [
    "sol2 = sy.solve(eq_2,nm)[0]\n",
    "sol2"
   ]
  },
  {
   "cell_type": "code",
   "execution_count": 16,
   "id": "730bb47b-4748-4c32-afbf-706df33c38ea",
   "metadata": {
    "tags": []
   },
   "outputs": [],
   "source": [
    "#Atualizando o dicionário com o valor de dm encontrado no item a\n",
    "dic1 = {qp:312, dp:6.85, g:9.81, hp:80, hm:6.5, qm:0.08, np:(112.5/60), dm:dm4}"
   ]
  },
  {
   "cell_type": "code",
   "execution_count": 17,
   "id": "cf671039-9ac1-492b-a652-324194d2dbc6",
   "metadata": {
    "tags": []
   },
   "outputs": [
    {
     "data": {
      "text/latex": [
       "$\\displaystyle 17.8238$"
      ],
      "text/plain": [
       "17.8238"
      ]
     },
     "execution_count": 17,
     "metadata": {},
     "output_type": "execute_result"
    }
   ],
   "source": [
    "sol2_num = sol2.subs(dic1).evalf().round(4)\n",
    "sol2_num"
   ]
  },
  {
   "cell_type": "code",
   "execution_count": 18,
   "id": "66be63da-c8aa-49cb-b482-915b84c2d475",
   "metadata": {
    "tags": []
   },
   "outputs": [
    {
     "name": "stdout",
     "output_type": "stream",
     "text": [
      "A velocidade de rotação do modelo, nm, é igual a 17.8238 rps ou 1069.43 rpm.\n"
     ]
    }
   ],
   "source": [
    "print(f'A velocidade de rotação do modelo, nm, é igual a {sol2_num} rps ou {sol2_num*60} rpm.')"
   ]
  },
  {
   "cell_type": "markdown",
   "id": "f0ccdbe0-283a-4095-a323-6346b387e76e",
   "metadata": {},
   "source": [
    "#### Item c <a id='item-c'></a>"
   ]
  },
  {
   "cell_type": "markdown",
   "id": "6f93d1f1-510d-4ea7-88dd-170aea7c6b75",
   "metadata": {},
   "source": [
    "Para a resolução desta questão, usar-se-á a Fórmula de Moody, segundo a NB-580, para turbinas do tipo Francis:"
   ]
  },
  {
   "cell_type": "code",
   "execution_count": 19,
   "id": "6593853b-f013-4ecf-94e4-a4b5707fcd9c",
   "metadata": {
    "tags": []
   },
   "outputs": [],
   "source": [
    "ntp,ntm,rho = sy.symbols('\\eta_{tp} \\eta_{tm} rho')"
   ]
  },
  {
   "cell_type": "code",
   "execution_count": 20,
   "id": "f43e93b4-379a-4aff-b60f-970e5fda4deb",
   "metadata": {
    "tags": []
   },
   "outputs": [],
   "source": [
    "dic2 = {qp:312, dp:6.85, g:9.81, hp:80, hm:6.5, qm:0.08, np:(112.5/60), dm:dm4, pep:220.28*10**6, rho:10**3}"
   ]
  },
  {
   "cell_type": "code",
   "execution_count": 21,
   "id": "70778f91-c6c4-4298-add4-e96ca55904e8",
   "metadata": {
    "tags": []
   },
   "outputs": [],
   "source": [
    "le3 = (1 - ntp) / (1 - ntm) \n",
    "ld3 = (dm/dp)**(1/5)"
   ]
  },
  {
   "cell_type": "code",
   "execution_count": 22,
   "id": "e34ab42e-ccc1-4c40-ba7b-ed8b5c27e586",
   "metadata": {
    "tags": []
   },
   "outputs": [
    {
     "data": {
      "text/latex": [
       "$\\displaystyle \\frac{1 - \\eta_{tp}}{1 - \\eta_{tm}} = \\left(\\frac{D_{m}}{D_{p}}\\right)^{0.2}$"
      ],
      "text/plain": [
       "Eq((1 - \\eta_{tp})/(1 - \\eta_{tm}), (D_m/D_p)**0.2)"
      ]
     },
     "execution_count": 22,
     "metadata": {},
     "output_type": "execute_result"
    }
   ],
   "source": [
    "eq_3 = sy.Eq(le3,ld3)\n",
    "eq_3"
   ]
  },
  {
   "cell_type": "markdown",
   "id": "cd9dffb6-2dd1-42cf-a4fd-987a6d10ec14",
   "metadata": {},
   "source": [
    "Isolando $\\eta_{tm}$ tem-se:"
   ]
  },
  {
   "cell_type": "code",
   "execution_count": 23,
   "id": "f90e2ac9-51f6-463b-a11f-d53896d98f02",
   "metadata": {
    "tags": []
   },
   "outputs": [
    {
     "data": {
      "text/latex": [
       "$\\displaystyle \\frac{\\eta_{tp} + \\sqrt[5]{\\frac{D_{m}}{D_{p}}} - 1.0}{\\sqrt[5]{\\frac{D_{m}}{D_{p}}}}$"
      ],
      "text/plain": [
       "(\\eta_{tp} + (D_m/D_p)**(1/5) - 1.0)/(D_m/D_p)**(1/5)"
      ]
     },
     "execution_count": 23,
     "metadata": {},
     "output_type": "execute_result"
    }
   ],
   "source": [
    "sol3 = sy.solve(eq_3,ntm)[0]\n",
    "sol3"
   ]
  },
  {
   "cell_type": "markdown",
   "id": "512615a2-d8b7-4b2c-8593-91112b195f92",
   "metadata": {},
   "source": [
    "Antes de usar a fórmula acima é necessário calcular $\\eta_{tp}$:"
   ]
  },
  {
   "cell_type": "code",
   "execution_count": 24,
   "id": "3ad87226-935b-45fd-82a7-a2757bc7dda1",
   "metadata": {
    "tags": []
   },
   "outputs": [
    {
     "data": {
      "text/latex": [
       "$\\displaystyle \\frac{P_{ep}}{H_{p} Q_{p} g \\rho}$"
      ],
      "text/plain": [
       "P_{ep}/(H_p*Q_p*g*rho)"
      ]
     },
     "execution_count": 24,
     "metadata": {},
     "output_type": "execute_result"
    }
   ],
   "source": [
    "ntp_aux = pep / (rho*qp*yp)\n",
    "ntp_aux"
   ]
  },
  {
   "cell_type": "code",
   "execution_count": 25,
   "id": "a40d6770-5e3f-4b2a-84cc-ee11aed797dc",
   "metadata": {
    "tags": []
   },
   "outputs": [
    {
     "data": {
      "text/latex": [
       "$\\displaystyle 0.9$"
      ],
      "text/plain": [
       "0.900"
      ]
     },
     "execution_count": 25,
     "metadata": {},
     "output_type": "execute_result"
    }
   ],
   "source": [
    "ntp_num = ntp_aux.subs(dic2).round(3)\n",
    "ntp_num"
   ]
  },
  {
   "cell_type": "markdown",
   "id": "3d19d1ae-0461-4ffa-9a72-16348451350b",
   "metadata": {},
   "source": [
    "Substituindo o resultado de $\\eta_{tp}$ na relação de Moody, tem-se:"
   ]
  },
  {
   "cell_type": "code",
   "execution_count": 26,
   "id": "de462693-8ab4-4f06-ac8a-430d79f2357f",
   "metadata": {
    "tags": []
   },
   "outputs": [],
   "source": [
    "dic3 = {qp:312, dp:6.85, g:9.81, hp:80, hm:6.5, qm:0.08, np:(112.5/60), dm:dm4, pep:220.28*10**6, rho:10**3, ntp:ntp_num}"
   ]
  },
  {
   "cell_type": "code",
   "execution_count": 27,
   "id": "0a35553f-1082-4036-99b7-a4084e336117",
   "metadata": {
    "tags": []
   },
   "outputs": [
    {
     "name": "stdout",
     "output_type": "stream",
     "text": [
      "O rendimento do modelo é 0.798\n"
     ]
    }
   ],
   "source": [
    "sol3_num = sol3.subs(dic3)\n",
    "ntm_num = sol3_num.round(3)\n",
    "print(f'O rendimento do modelo é {ntm_num}')"
   ]
  },
  {
   "cell_type": "markdown",
   "id": "5535acdb-1906-4cdc-a8b2-d2c18efce420",
   "metadata": {},
   "source": [
    "Calculando a potência do modelo $P_{em}$:"
   ]
  },
  {
   "cell_type": "code",
   "execution_count": 28,
   "id": "1deb9f23-1927-4c87-bbed-5342d0c53927",
   "metadata": {
    "tags": []
   },
   "outputs": [
    {
     "data": {
      "text/latex": [
       "$\\displaystyle H_{m} Q_{m} \\eta_{tm} g \\rho$"
      ],
      "text/plain": [
       "H_m*Q_m*\\eta_{tm}*g*rho"
      ]
     },
     "execution_count": 28,
     "metadata": {},
     "output_type": "execute_result"
    }
   ],
   "source": [
    "pem = rho*qm*ym*ntm\n",
    "pem"
   ]
  },
  {
   "cell_type": "code",
   "execution_count": 29,
   "id": "405b3816-220e-47fa-bbc0-bc6a42637d11",
   "metadata": {
    "tags": []
   },
   "outputs": [],
   "source": [
    "dic3 = {qp:312, dp:6.85, g:9.81, hp:80, hm:6.5, qm:0.08, np:(112.5/60), dm:dm4, pep:220.28*10**6, rho:10**3, ntp:ntp_num, ntm:ntm_num}"
   ]
  },
  {
   "cell_type": "code",
   "execution_count": 30,
   "id": "8f47636f-79c0-439d-8aa1-1cbe397c3e41",
   "metadata": {
    "tags": []
   },
   "outputs": [
    {
     "data": {
      "text/latex": [
       "$\\displaystyle 4070.623$"
      ],
      "text/plain": [
       "4070.623"
      ]
     },
     "execution_count": 30,
     "metadata": {},
     "output_type": "execute_result"
    }
   ],
   "source": [
    "pem = pem.subs(dic3).round(3)\n",
    "pem"
   ]
  },
  {
   "cell_type": "code",
   "execution_count": 31,
   "id": "9153e4e1-7001-46c6-8af4-34ff417ad22a",
   "metadata": {
    "tags": []
   },
   "outputs": [
    {
     "name": "stdout",
     "output_type": "stream",
     "text": [
      "A potência medida pelo freio dinamométrico será de 4070.623 W ou 4.071 kW.\n"
     ]
    }
   ],
   "source": [
    "print(f'A potência medida pelo freio dinamométrico será de {pem} W ou {(pem*10**(-3)).round(3)} kW.')"
   ]
  }
 ],
 "metadata": {
  "kernelspec": {
   "display_name": "Python 3 (ipykernel)",
   "language": "python",
   "name": "python3"
  },
  "language_info": {
   "codemirror_mode": {
    "name": "ipython",
    "version": 3
   },
   "file_extension": ".py",
   "mimetype": "text/x-python",
   "name": "python",
   "nbconvert_exporter": "python",
   "pygments_lexer": "ipython3",
   "version": "3.11.4"
  }
 },
 "nbformat": 4,
 "nbformat_minor": 5
}
