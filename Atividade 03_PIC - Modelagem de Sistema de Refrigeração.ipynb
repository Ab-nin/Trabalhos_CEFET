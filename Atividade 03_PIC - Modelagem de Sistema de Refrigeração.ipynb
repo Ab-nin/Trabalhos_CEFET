{
 "cells": [
  {
   "cell_type": "markdown",
   "metadata": {},
   "source": [
    "## Atividade 03 - PIC - Parte 1\n",
    "\n",
    "#### Tema: Modelagem de Sistema de Refrigeração\n",
    "\n",
    "---\n",
    "\n",
    "Aluno: Abner Vieira Pereira"
   ]
  },
  {
   "cell_type": "markdown",
   "metadata": {},
   "source": [
    "## Enunciado"
   ]
  },
  {
   "cell_type": "markdown",
   "metadata": {},
   "source": [
    "Refrigerante-134a entra no compressor de um refrigerador como vapor superaquecido a 0,14 MPa e -10°C com uma vazão de 0,05 kg/s e sai a 0,8 MPa e 50°C. O refrigerante é resfriado no condensador até 26°C e 0,72 MPa e é expandido para 0,15 MPa. Desconsiderando qualquer transferência de calor e quedas de pressão nas linhas de conexão entre os componentes, determine:\n",
    "\n",
    "(a) a taxa de remoção de calor do espaço refrigerado e a potência de entrada no compressor,\n",
    "(b) a eficiência isentrópica do compressor, e\n",
    "(c) o coeficiente de performance do refrigerador."
   ]
  },
  {
   "cell_type": "code",
   "execution_count": 2,
   "metadata": {},
   "outputs": [],
   "source": [
    "from numpy import *\n",
    "import numpy as np\n",
    "import CoolProp.CoolProp as CP\n",
    "import matplotlib.pyplot as plt\n",
    "from pandas import *\n",
    "import pandas as pd\n",
    "from IPython.display import Math\n"
   ]
  },
  {
   "cell_type": "markdown",
   "metadata": {},
   "source": [
    "## Estado 1"
   ]
  },
  {
   "cell_type": "code",
   "execution_count": null,
   "metadata": {},
   "outputs": [],
   "source": [
    "P1 = 0.14e6            #Pa\n",
    "T1 = (-10 + 273.15)    #K\n",
    "fluido_ref = 'R134a'"
   ]
  },
  {
   "cell_type": "code",
   "execution_count": 4,
   "metadata": {},
   "outputs": [
    {
     "data": {
      "text/latex": [
       "$\\displaystyle h_{1} = 394.502 kJ/kg$"
      ],
      "text/plain": [
       "<IPython.core.display.Math object>"
      ]
     },
     "metadata": {},
     "output_type": "display_data"
    }
   ],
   "source": [
    "h1 = CP.PropsSI('H','T',T1,'P',P1,fluido_ref)\n",
    "h1_conv = h1/1000\n",
    "display(Math(r'h_{1} = %.3f kJ/kg'%h1_conv))"
   ]
  },
  {
   "cell_type": "code",
   "execution_count": 5,
   "metadata": {},
   "outputs": [
    {
     "data": {
      "text/latex": [
       "$\\displaystyle s_{1} = 1.768 kJ/kg°C$"
      ],
      "text/plain": [
       "<IPython.core.display.Math object>"
      ]
     },
     "metadata": {},
     "output_type": "display_data"
    }
   ],
   "source": [
    "s1 = CP.PropsSI('S','T',T1,'P',P1,fluido_ref)\n",
    "s1_conv = s1/1000\n",
    "display(Math(r's_{1} = %.3f kJ/kg°C'%s1_conv))"
   ]
  },
  {
   "cell_type": "markdown",
   "metadata": {},
   "source": [
    "## Estado 2"
   ]
  },
  {
   "cell_type": "code",
   "execution_count": 6,
   "metadata": {},
   "outputs": [],
   "source": [
    "P2 = 0.8e6          #Pa\n",
    "T2 = (50 + 273.15)     #K"
   ]
  },
  {
   "cell_type": "code",
   "execution_count": 7,
   "metadata": {},
   "outputs": [
    {
     "data": {
      "text/latex": [
       "$\\displaystyle h_{2} = 434.840 kJ/kg$"
      ],
      "text/plain": [
       "<IPython.core.display.Math object>"
      ]
     },
     "metadata": {},
     "output_type": "display_data"
    }
   ],
   "source": [
    "h2 = CP.PropsSI('H','P',P2,'T',T2,fluido_ref)\n",
    "h2_conv = h2/1000\n",
    "display(Math(r'h_{2} = %.3f kJ/kg'%h2_conv))"
   ]
  },
  {
   "cell_type": "code",
   "execution_count": 8,
   "metadata": {},
   "outputs": [
    {
     "data": {
      "text/latex": [
       "$\\displaystyle h_{2,s} = 432.313 kJ/kg$"
      ],
      "text/plain": [
       "<IPython.core.display.Math object>"
      ]
     },
     "metadata": {},
     "output_type": "display_data"
    }
   ],
   "source": [
    "h2_s = CP.PropsSI('H','P',P2,'S',s1,fluido_ref)\n",
    "h2_s_conv = h2_s/1000\n",
    "display(Math(r'h_{2,s} = %.3f kJ/kg'%h2_s_conv))"
   ]
  },
  {
   "cell_type": "markdown",
   "metadata": {},
   "source": [
    "### Eficiência isentrópica\n",
    "\n",
    "$$\\eta_c = \\dfrac{h_{2s} - h_1}{h_2 - h_1}$$"
   ]
  },
  {
   "cell_type": "code",
   "execution_count": 9,
   "metadata": {},
   "outputs": [
    {
     "data": {
      "text/latex": [
       "$\\displaystyle \\eta_{c} = 93.737 \\% $"
      ],
      "text/plain": [
       "<IPython.core.display.Math object>"
      ]
     },
     "metadata": {},
     "output_type": "display_data"
    }
   ],
   "source": [
    "eta_c = (h2_s_conv - h1_conv) / (h2_conv - h1_conv)\n",
    "eta_c *= 100\n",
    "display(Math(r'\\eta_{c} = %.3f \\%% '%eta_c))"
   ]
  },
  {
   "cell_type": "markdown",
   "metadata": {},
   "source": [
    "## Estado 3"
   ]
  },
  {
   "cell_type": "code",
   "execution_count": 10,
   "metadata": {},
   "outputs": [],
   "source": [
    "T3 = 26 + 273.15\n",
    "P3 = 0.72e6"
   ]
  },
  {
   "cell_type": "code",
   "execution_count": 11,
   "metadata": {},
   "outputs": [
    {
     "data": {
      "text/latex": [
       "$\\displaystyle h_{3} = 235.974 kJ/kg \\,$"
      ],
      "text/plain": [
       "<IPython.core.display.Math object>"
      ]
     },
     "metadata": {},
     "output_type": "display_data"
    }
   ],
   "source": [
    "h3 = CP.PropsSI('H','P',P3,'T',T3,fluido_ref)\n",
    "h3_conv = h3/1000\n",
    "display(Math(r'h_{3} = %.3f kJ/kg \\,'%h3_conv))"
   ]
  },
  {
   "cell_type": "code",
   "execution_count": 12,
   "metadata": {},
   "outputs": [
    {
     "data": {
      "text/latex": [
       "$\\displaystyle s_{3} = 1.125 kJ/kg \\,$"
      ],
      "text/plain": [
       "<IPython.core.display.Math object>"
      ]
     },
     "metadata": {},
     "output_type": "display_data"
    }
   ],
   "source": [
    "s3 = CP.PropsSI('S','T',T3,'P',P3,fluido_ref)\n",
    "s3_conv = s3/1000\n",
    "display(Math(r's_{3} = %.3f kJ/kg \\,'%s3_conv))"
   ]
  },
  {
   "cell_type": "code",
   "execution_count": 13,
   "metadata": {},
   "outputs": [
    {
     "data": {
      "text/plain": [
       "-1.0"
      ]
     },
     "execution_count": 13,
     "metadata": {},
     "output_type": "execute_result"
    }
   ],
   "source": [
    "Q3 = CP.PropsSI('Q','P',P3,'H',h3,fluido_ref)\n",
    "Q3"
   ]
  },
  {
   "cell_type": "markdown",
   "metadata": {},
   "source": [
    "## Estado 4"
   ]
  },
  {
   "cell_type": "code",
   "execution_count": 14,
   "metadata": {},
   "outputs": [],
   "source": [
    "h4_conv = h3_conv\n",
    "P4 = 0.15e6"
   ]
  },
  {
   "cell_type": "code",
   "execution_count": 15,
   "metadata": {},
   "outputs": [
    {
     "data": {
      "text/latex": [
       "$\\displaystyle T_{4} = -17.132 \\, °C$"
      ],
      "text/plain": [
       "<IPython.core.display.Math object>"
      ]
     },
     "metadata": {},
     "output_type": "display_data"
    }
   ],
   "source": [
    "T4 = CP.PropsSI('T','P',P4,'H',h4_conv*10**3,fluido_ref)\n",
    "T4_C = T4-273.15\n",
    "display(Math(r'T_{4} = %.3f \\, °C'%T4_C))"
   ]
  },
  {
   "cell_type": "code",
   "execution_count": 16,
   "metadata": {},
   "outputs": [
    {
     "data": {
      "text/latex": [
       "$\\displaystyle s_{4} = 1.144 \\, kJ/kg°C$"
      ],
      "text/plain": [
       "<IPython.core.display.Math object>"
      ]
     },
     "metadata": {},
     "output_type": "display_data"
    }
   ],
   "source": [
    "s4 = CP.PropsSI('S','P',P4,'H',h4_conv*10**3,fluido_ref)\n",
    "s4_conv = s4/1000\n",
    "display(Math(r's_{4} = %.3f \\, kJ/kg°C'%s4_conv))"
   ]
  },
  {
   "cell_type": "code",
   "execution_count": 17,
   "metadata": {},
   "outputs": [
    {
     "data": {
      "text/latex": [
       "$\\displaystyle Q_{4} = 0.278 \\, $"
      ],
      "text/plain": [
       "<IPython.core.display.Math object>"
      ]
     },
     "metadata": {},
     "output_type": "display_data"
    }
   ],
   "source": [
    "Q4 = CP.PropsSI('Q','P',P4,'H',h4_conv*10**3,fluido_ref)\n",
    "display(Math(r'Q_{4} = %.3f \\, '%Q4))"
   ]
  },
  {
   "cell_type": "markdown",
   "metadata": {},
   "source": [
    "## Taxa de remoção de calor do espaço refrigerdo\n",
    "\n",
    "$$\\dot{Q}_{evap} = \\dot{m}(h_1 - h_4)$$"
   ]
  },
  {
   "cell_type": "code",
   "execution_count": 18,
   "metadata": {},
   "outputs": [
    {
     "data": {
      "text/latex": [
       "$\\displaystyle \\dot{Q}_{evap} = 7.926 kW$"
      ],
      "text/plain": [
       "<IPython.core.display.Math object>"
      ]
     },
     "metadata": {},
     "output_type": "display_data"
    }
   ],
   "source": [
    "m_ponto = 0.05     #kg/s\n",
    "Q_evap = m_ponto * (h1_conv - h4_conv)\n",
    "display(Math(r'\\dot{Q}_{evap} = %.3f kW'%Q_evap))"
   ]
  },
  {
   "cell_type": "markdown",
   "metadata": {},
   "source": [
    "## Potência de entrada do compressor\n",
    "\n",
    "$$\\dot{W} = \\dot{m}(h_2 - h_1)$$"
   ]
  },
  {
   "cell_type": "code",
   "execution_count": 19,
   "metadata": {},
   "outputs": [
    {
     "data": {
      "text/latex": [
       "$\\displaystyle \\dot{W}_{comp} = 2.017 kW$"
      ],
      "text/plain": [
       "<IPython.core.display.Math object>"
      ]
     },
     "metadata": {},
     "output_type": "display_data"
    }
   ],
   "source": [
    "W_comp = m_ponto*(h2_conv - h1_conv)\n",
    "display(Math(r'\\dot{W}_{comp} = %.3f kW'%W_comp))"
   ]
  },
  {
   "cell_type": "markdown",
   "metadata": {},
   "source": [
    "## Taxa de liberação de calor pelo condensador\n",
    "\n",
    "$$\\dot{Q}_{cond} = \\dot{m}(h_2 - h_3)$$"
   ]
  },
  {
   "cell_type": "code",
   "execution_count": 20,
   "metadata": {},
   "outputs": [
    {
     "data": {
      "text/latex": [
       "$\\displaystyle \\dot{Q}_{cond} = 9.943 kW$"
      ],
      "text/plain": [
       "<IPython.core.display.Math object>"
      ]
     },
     "metadata": {},
     "output_type": "display_data"
    }
   ],
   "source": [
    "Q_cond = m_ponto * (h2_conv - h3_conv)\n",
    "display(Math(r'\\dot{Q}_{cond} = %.3f kW'%Q_cond))"
   ]
  },
  {
   "cell_type": "markdown",
   "metadata": {},
   "source": [
    "## COP\n",
    "\n",
    "$$COP = \\dfrac{\\dot{Q}_{evap}}{\\dot{W}_{comp}}$$"
   ]
  },
  {
   "cell_type": "code",
   "execution_count": 21,
   "metadata": {},
   "outputs": [
    {
     "data": {
      "text/latex": [
       "$\\displaystyle COP = 3.930 \\,$"
      ],
      "text/plain": [
       "<IPython.core.display.Math object>"
      ]
     },
     "metadata": {},
     "output_type": "display_data"
    }
   ],
   "source": [
    "COP = Q_evap/W_comp\n",
    "display(Math(r'COP = %.3f \\,'%COP))"
   ]
  },
  {
   "cell_type": "markdown",
   "metadata": {},
   "source": [
    "## Plotando gráfico P-h"
   ]
  },
  {
   "cell_type": "code",
   "execution_count": 22,
   "metadata": {},
   "outputs": [
    {
     "name": "stderr",
     "output_type": "stream",
     "text": [
      "C:\\Users\\Usuario\\AppData\\Local\\Temp\\ipykernel_5784\\239365721.py:20: UserWarning: color is redundantly defined by the 'color' keyword argument and the fmt string \"k--\" (-> color='k'). The keyword argument will take precedence.\n",
      "  plt.plot([h1_conv,h2_conv,h3_conv,h4_conv,h1_conv],\n"
     ]
    },
    {
     "data": {
      "image/png": "[encoded data removed]",
      "text/plain": [
       "<Figure size 1000x600 with 1 Axes>"
      ]
     },
     "metadata": {},
     "output_type": "display_data"
    }
   ],
   "source": [
    "# Definindo os limites de temperatura, incluindo a temperatura crítica\n",
    "T_min = 170\n",
    "T_max = 374\n",
    "\n",
    "T_values = np.linspace(T_min, T_max, 1000)  \n",
    "\n",
    "h_liq = [CP.PropsSI('H', 'T', T, 'Q', 0, fluido_ref) / 1000 for T in T_values]  \n",
    "h_vap = [CP.PropsSI('H', 'T', T, 'Q', 1, fluido_ref) / 1000 for T in T_values]  \n",
    "\n",
    "P_values = [CP.PropsSI('P', 'T', T, 'Q', 0, fluido_ref) / 1e3 for T in T_values]  \n",
    "\n",
    "\n",
    "h_values = np.concatenate((h_liq, h_vap[::-1]))  # Concatena valores de líquido e vapor\n",
    "P_values_combined = np.concatenate((P_values, P_values[::-1]))  # Concatena pressão\n",
    "\n",
    "# Fazendo a plotagem da curva de saturação\n",
    "plt.figure(figsize=(10,6))\n",
    "plt.plot(h_values, P_values_combined, label='Curva de Saturação', color='blue')\n",
    "\n",
    "plt.plot([h1_conv,h2_conv,h3_conv,h4_conv,h1_conv],\n",
    "         [P1/1e3, P2/1e3, P3/1e3, P4/1e3, P1/1e3],\n",
    "         'k--',marker='o',color='black')\n",
    "\n",
    "# Adicionando enumeração nos pontos do ciclo\n",
    "plt.text(h1_conv + 15, P1 / 1e3, '1', fontsize=12, ha='right', color='black')\n",
    "plt.text(h2_conv + 15, P2 / 1e3, '2', fontsize=12, ha='right', color='black')\n",
    "plt.text(h3_conv - 8, P3 / 1e3, '3', fontsize=12, ha='right', color='black')\n",
    "plt.text(h4_conv - 8, P4 / 1e3, '4', fontsize=12, ha='right', color='black')\n",
    "\n",
    "# Configurações do gráfico\n",
    "plt.title('Diagrama P-h do Ciclo de Refrigeração com R134a')\n",
    "plt.xlabel('Entalpia [kJ/kg]')\n",
    "plt.ylabel('Pressão [kPa]')\n",
    "plt.yscale('log')  # Escala logarítmica para a pressão\n",
    "plt.grid(True)\n",
    "plt.legend()\n",
    "plt.show()"
   ]
  },
  {
   "cell_type": "code",
   "execution_count": 23,
   "metadata": {},
   "outputs": [
    {
     "data": {
      "text/html": [
       "<div>\n",
       "<style scoped>\n",
       "    .dataframe tbody tr th:only-of-type {\n",
       "        vertical-align: middle;\n",
       "    }\n",
       "\n",
       "    .dataframe tbody tr th {\n",
       "        vertical-align: top;\n",
       "    }\n",
       "\n",
       "    .dataframe thead th {\n",
       "        text-align: right;\n",
       "    }\n",
       "</style>\n",
       "<table border=\"1\" class=\"dataframe\">\n",
       "  <thead>\n",
       "    <tr style=\"text-align: right;\">\n",
       "      <th></th>\n",
       "      <th>Q_evap [kW]</th>\n",
       "      <th>W_comp [kW]</th>\n",
       "      <th>[η_c%]</th>\n",
       "      <th>COP</th>\n",
       "    </tr>\n",
       "  </thead>\n",
       "  <tbody>\n",
       "    <tr>\n",
       "      <th>0</th>\n",
       "      <td>7.926</td>\n",
       "      <td>2.017</td>\n",
       "      <td>93.737</td>\n",
       "      <td>3.93</td>\n",
       "    </tr>\n",
       "  </tbody>\n",
       "</table>\n",
       "</div>"
      ],
      "text/plain": [
       "   Q_evap [kW]  W_comp [kW]  [η_c%]   COP\n",
       "0        7.926        2.017  93.737  3.93"
      ]
     },
     "metadata": {},
     "output_type": "display_data"
    }
   ],
   "source": [
    "results = {\n",
    "    'Q_evap [kW]':[round(Q_evap,3)],\n",
    "    'W_comp [kW]':[round(W_comp,3)],\n",
    "    '[η_c%]':[round(eta_c,3)],\n",
    "    'COP':[round(COP,3)]\n",
    "}\n",
    "\n",
    "results = pd.DataFrame(results)\n",
    "display(results)"
   ]
  }
 ],
 "metadata": {
  "kernelspec": {
   "display_name": ".venv",
   "language": "python",
   "name": "python3"
  },
  "language_info": {
   "codemirror_mode": {
    "name": "ipython",
    "version": 3
   },
   "file_extension": ".py",
   "mimetype": "text/x-python",
   "name": "python",
   "nbconvert_exporter": "python",
   "pygments_lexer": "ipython3",
   "version": "3.12.4"
  }
 },
 "nbformat": 4,
 "nbformat_minor": 2
}
