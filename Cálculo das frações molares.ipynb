{
 "cells": [
  {
   "cell_type": "code",
   "execution_count": 1,
   "id": "a7abb377",
   "metadata": {},
   "outputs": [],
   "source": [
    "from rdkit import Chem\n",
    "from rdkit.Chem import Draw\n",
    "from IPython.display import display\n",
    "from rdkit.Chem import Descriptors  \n",
    "import pandas as pd"
   ]
  },
  {
   "cell_type": "code",
   "execution_count": 2,
   "id": "0e1fb92c",
   "metadata": {},
   "outputs": [
    {
     "name": "stdout",
     "output_type": "stream",
     "text": [
      "  Composto  Fração Volumétrica  Volume (mL)  Densidade (g/mL)  Massa (g)  \\\n",
      "0  NC12H26             0.30730      0.30730           0.75000    0.23048   \n",
      "1  NC10H22             0.42340      0.42340           0.73000    0.30908   \n",
      "2  NC16H34             0.23090      0.23090           0.77300    0.17849   \n",
      "3   NC8H18             0.03840      0.03840           0.70300    0.02700   \n",
      "\n",
      "   Massa Molar (g/mol)  n (mol)  Fração Molar  \n",
      "0            170.34000  0.00135       0.29738  \n",
      "1            142.28600  0.00217       0.47744  \n",
      "2            226.44800  0.00079       0.17324  \n",
      "3            114.23200  0.00024       0.05194  \n"
     ]
    }
   ],
   "source": [
    "# SMILES dos n-alcanos\n",
    "smiles_dict = {\n",
    "    'NC12H26': 'CCCCCCCCCCCC',      # n-dodecano\n",
    "    'NC10H22': 'CCCCCCCCCC',        # n-decano\n",
    "    'NC16H34': 'CCCCCCCCCCCCCCCC',  # n-hexadecano\n",
    "    'NC8H18': 'CCCCCCCC'            # n-octano\n",
    "}\n",
    "\n",
    "# Frações volumétricas do S-8\n",
    "composicao_s8 = {\n",
    "    'NC12H26': 0.3073,\n",
    "    'NC10H22': 0.4234,\n",
    "    'NC16H34': 0.2309,\n",
    "    'NC8H18': 0.0384\n",
    "}\n",
    "\n",
    "# Densidades (g/mL) a 20°C (NIST)\n",
    "densidades = {\n",
    "    'NC12H26': 0.750,\n",
    "    'NC10H22': 0.730,\n",
    "    'NC16H34': 0.773,\n",
    "    'NC8H18': 0.703\n",
    "}\n",
    "\n",
    "# Calcular massas molares com RDKit\n",
    "massas_molares = {}\n",
    "for nome, smiles in smiles_dict.items():\n",
    "    mol = Chem.AddHs(Chem.MolFromSmiles(smiles))\n",
    "    massas_molares[nome] = Descriptors.MolWt(mol)\n",
    "\n",
    "# Volume total = 1 mL\n",
    "volume_total = 1.0\n",
    "\n",
    "# Tabela de resultados\n",
    "tabela = []\n",
    "\n",
    "total_mols = 0\n",
    "for comp in composicao_s8:\n",
    "    v_i = composicao_s8[comp] * volume_total\n",
    "    d_i = densidades[comp]\n",
    "    m_i = v_i * d_i\n",
    "    M_i = massas_molares[comp]\n",
    "    n_i = m_i / M_i\n",
    "    total_mols += n_i\n",
    "    tabela.append({\n",
    "        \"Composto\": comp,\n",
    "        \"Fração Volumétrica\": composicao_s8[comp],\n",
    "        \"Volume (mL)\": v_i,\n",
    "        \"Densidade (g/mL)\": d_i,\n",
    "        \"Massa (g)\": m_i,\n",
    "        \"Massa Molar (g/mol)\": M_i,\n",
    "        \"n (mol)\": n_i\n",
    "    })\n",
    "\n",
    "# Calcular fração molar\n",
    "for linha in tabela:\n",
    "    linha[\"Fração Molar\"] = linha[\"n (mol)\"] / total_mols\n",
    "\n",
    "# Exibir em formato de tabela\n",
    "df = pd.DataFrame(tabela)\n",
    "pd.set_option(\"display.float_format\", \"{:.5f}\".format)\n",
    "print(df)\n"
   ]
  }
 ],
 "metadata": {
  "kernelspec": {
   "display_name": "rdkit-env",
   "language": "python",
   "name": "python3"
  },
  "language_info": {
   "codemirror_mode": {
    "name": "ipython",
    "version": 3
   },
   "file_extension": ".py",
   "mimetype": "text/x-python",
   "name": "python",
   "nbconvert_exporter": "python",
   "pygments_lexer": "ipython3",
   "version": "3.7.12"
  }
 },
 "nbformat": 4,
 "nbformat_minor": 5
}
