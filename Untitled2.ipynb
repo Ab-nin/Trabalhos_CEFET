{
 "cells": [
  {
   "cell_type": "code",
   "execution_count": 1,
   "id": "7c1bfe24-8f10-4f0a-8071-3d113b44ffbf",
   "metadata": {},
   "outputs": [],
   "source": [
    "from sympy import *\n",
    "from sympy.physics.continuum_mechanics import Beam\n",
    "from numpy import *\n",
    "import numpy as np\n",
    "import pandas as pd\n",
    "import matplotlib.pyplot as plt"
   ]
  },
  {
   "cell_type": "code",
   "execution_count": 2,
   "id": "6026e2d6-0f3f-40d0-9d3f-20e6c96fb221",
   "metadata": {},
   "outputs": [],
   "source": [
    "R0,RL,P,x,s = symbols('R0 R_L P x s')\n",
    "L,E,I = symbols('L E I ', positive = True)"
   ]
  },
  {
   "cell_type": "code",
   "execution_count": 3,
   "id": "43e39e3c-1838-4d5a-9b39-8da591ceaae6",
   "metadata": {},
   "outputs": [],
   "source": [
    "viga = Beam(L,E,I)"
   ]
  },
  {
   "cell_type": "code",
   "execution_count": 4,
   "id": "acf5e6b0-43fc-42a0-9666-c68558904c96",
   "metadata": {},
   "outputs": [],
   "source": [
    "viga.apply_load(356,L/4,-1)\n",
    "viga.apply_load(356,(3*L)/4,-1)"
   ]
  },
  {
   "cell_type": "code",
   "execution_count": 5,
   "id": "4e3f5643-9876-48d2-a328-1e821710e35c",
   "metadata": {},
   "outputs": [],
   "source": [
    "viga.apply_support(0,type='pin')\n",
    "viga.apply_support(L,type='roller')"
   ]
  },
  {
   "cell_type": "code",
   "execution_count": 6,
   "id": "c57cb96c-a9d6-4aa5-953a-ec658fdc59af",
   "metadata": {},
   "outputs": [
    {
     "name": "stderr",
     "output_type": "stream",
     "text": [
      "C:\\Users\\abner\\anaconda3\\lib\\site-packages\\sympy\\plotting\\plot.py:1376: MatplotlibDeprecationWarning: The 's' parameter of annotate() has been renamed 'text' since Matplotlib 3.3; support for the old name will be dropped two minor releases later.\n",
      "  ax.annotate(**a)\n"
     ]
    },
    {
     "data": {
      "image/png": "[encoded data removed]",
      "text/plain": [
       "<Figure size 432x288 with 1 Axes>"
      ]
     },
     "metadata": {
      "needs_background": "light"
     },
     "output_type": "display_data"
    }
   ],
   "source": [
    "viga.draw().show()"
   ]
  },
  {
   "cell_type": "code",
   "execution_count": 7,
   "id": "57fb416b-444c-4028-87c6-ba16203f98f9",
   "metadata": {},
   "outputs": [
    {
     "data": {
      "text/latex": [
       "$\\displaystyle R_{0} {\\left\\langle x \\right\\rangle}^{-1} + R_{L} {\\left\\langle - L + x \\right\\rangle}^{-1} + 356 {\\left\\langle - \\frac{L}{4} + x \\right\\rangle}^{-1} + 356 {\\left\\langle - \\frac{3 L}{4} + x \\right\\rangle}^{-1}$"
      ],
      "text/plain": [
       "R_0*SingularityFunction(x, 0, -1) + R_L*SingularityFunction(x, L, -1) + 356*SingularityFunction(x, L/4, -1) + 356*SingularityFunction(x, 3*L/4, -1)"
      ]
     },
     "execution_count": 7,
     "metadata": {},
     "output_type": "execute_result"
    }
   ],
   "source": [
    "viga.load"
   ]
  },
  {
   "cell_type": "code",
   "execution_count": 8,
   "id": "d92b34b0-aed1-4ea6-9d9f-c10e50edd1f4",
   "metadata": {},
   "outputs": [],
   "source": [
    "r0,rl = symbols('R_0 R_L') "
   ]
  },
  {
   "cell_type": "code",
   "execution_count": 9,
   "id": "0a76e7d8-2f57-43b9-911a-ef7044501f44",
   "metadata": {},
   "outputs": [],
   "source": [
    "viga.solve_for_reaction_loads(r0,rl)"
   ]
  },
  {
   "cell_type": "code",
   "execution_count": 10,
   "id": "f438f21e-5cab-4e4e-be2c-1d96b8b0452d",
   "metadata": {},
   "outputs": [
    {
     "data": {
      "text/latex": [
       "$\\displaystyle -356$"
      ],
      "text/plain": [
       "-356"
      ]
     },
     "execution_count": 10,
     "metadata": {},
     "output_type": "execute_result"
    }
   ],
   "source": [
    "viga.reaction_loads[r0]"
   ]
  },
  {
   "cell_type": "code",
   "execution_count": 11,
   "id": "282e8eca-8877-4a87-bc09-c648f5b6cf73",
   "metadata": {},
   "outputs": [
    {
     "data": {
      "text/latex": [
       "$\\displaystyle -356$"
      ],
      "text/plain": [
       "-356"
      ]
     },
     "execution_count": 11,
     "metadata": {},
     "output_type": "execute_result"
    }
   ],
   "source": [
    "viga.reaction_loads[rl]"
   ]
  },
  {
   "cell_type": "code",
   "execution_count": 12,
   "id": "bde0084e-db25-49b2-8ed7-3d1e7faf1d65",
   "metadata": {},
   "outputs": [
    {
     "data": {
      "text/latex": [
       "$\\displaystyle - 356 {\\left\\langle x \\right\\rangle}^{-1} + 356 {\\left\\langle - \\frac{L}{4} + x \\right\\rangle}^{-1} + 356 {\\left\\langle - \\frac{3 L}{4} + x \\right\\rangle}^{-1} - 356 {\\left\\langle - L + x \\right\\rangle}^{-1}$"
      ],
      "text/plain": [
       "-356*SingularityFunction(x, 0, -1) + 356*SingularityFunction(x, L/4, -1) + 356*SingularityFunction(x, 3*L/4, -1) - 356*SingularityFunction(x, L, -1)"
      ]
     },
     "execution_count": 12,
     "metadata": {},
     "output_type": "execute_result"
    }
   ],
   "source": [
    "viga.load"
   ]
  },
  {
   "cell_type": "code",
   "execution_count": 13,
   "id": "811e295b-1bdc-4180-a97e-ebe2445fa37e",
   "metadata": {},
   "outputs": [
    {
     "data": {
      "text/latex": [
       "$\\displaystyle 356 {\\left\\langle x \\right\\rangle}^{0} - 356 {\\left\\langle - \\frac{L}{4} + x \\right\\rangle}^{0} - 356 {\\left\\langle - \\frac{3 L}{4} + x \\right\\rangle}^{0} + 356 {\\left\\langle - L + x \\right\\rangle}^{0}$"
      ],
      "text/plain": [
       "356*SingularityFunction(x, 0, 0) - 356*SingularityFunction(x, L/4, 0) - 356*SingularityFunction(x, 3*L/4, 0) + 356*SingularityFunction(x, L, 0)"
      ]
     },
     "execution_count": 13,
     "metadata": {},
     "output_type": "execute_result"
    }
   ],
   "source": [
    "viga.shear_force()"
   ]
  },
  {
   "cell_type": "code",
   "execution_count": 14,
   "id": "90271408-5ab9-4506-bd29-4b3617a3e94c",
   "metadata": {},
   "outputs": [
    {
     "data": {
      "text/latex": [
       "$\\displaystyle 356 {\\left\\langle x \\right\\rangle}^{1} - 356 {\\left\\langle - \\frac{L}{4} + x \\right\\rangle}^{1} - 356 {\\left\\langle - \\frac{3 L}{4} + x \\right\\rangle}^{1} + 356 {\\left\\langle - L + x \\right\\rangle}^{1}$"
      ],
      "text/plain": [
       "356*SingularityFunction(x, 0, 1) - 356*SingularityFunction(x, L/4, 1) - 356*SingularityFunction(x, 3*L/4, 1) + 356*SingularityFunction(x, L, 1)"
      ]
     },
     "execution_count": 14,
     "metadata": {},
     "output_type": "execute_result"
    }
   ],
   "source": [
    "viga.bending_moment()"
   ]
  },
  {
   "cell_type": "code",
   "execution_count": 15,
   "id": "9279b384-bf0c-4679-b994-26d1a6d9a3a3",
   "metadata": {},
   "outputs": [
    {
     "data": {
      "text/latex": [
       "$\\displaystyle \\frac{\\frac{267 L^{2}}{8} - 178 {\\left\\langle x \\right\\rangle}^{2} + 178 {\\left\\langle - \\frac{L}{4} + x \\right\\rangle}^{2} + 178 {\\left\\langle - \\frac{3 L}{4} + x \\right\\rangle}^{2} - 178 {\\left\\langle - L + x \\right\\rangle}^{2}}{E I}$"
      ],
      "text/plain": [
       "(267*L**2/8 - 178*SingularityFunction(x, 0, 2) + 178*SingularityFunction(x, L/4, 2) + 178*SingularityFunction(x, 3*L/4, 2) - 178*SingularityFunction(x, L, 2))/(E*I)"
      ]
     },
     "execution_count": 15,
     "metadata": {},
     "output_type": "execute_result"
    }
   ],
   "source": [
    "viga.slope()"
   ]
  },
  {
   "cell_type": "code",
   "execution_count": 16,
   "id": "75a94c2e-46bf-43ec-b840-ca3eca5e2fc9",
   "metadata": {},
   "outputs": [
    {
     "data": {
      "text/latex": [
       "$\\displaystyle \\frac{\\frac{267 L^{2} x}{8} - \\frac{178 {\\left\\langle x \\right\\rangle}^{3}}{3} + \\frac{178 {\\left\\langle - \\frac{L}{4} + x \\right\\rangle}^{3}}{3} + \\frac{178 {\\left\\langle - \\frac{3 L}{4} + x \\right\\rangle}^{3}}{3} - \\frac{178 {\\left\\langle - L + x \\right\\rangle}^{3}}{3}}{E I}$"
      ],
      "text/plain": [
       "(267*L**2*x/8 - 178*SingularityFunction(x, 0, 3)/3 + 178*SingularityFunction(x, L/4, 3)/3 + 178*SingularityFunction(x, 3*L/4, 3)/3 - 178*SingularityFunction(x, L, 3)/3)/(E*I)"
      ]
     },
     "execution_count": 16,
     "metadata": {},
     "output_type": "execute_result"
    }
   ],
   "source": [
    "viga.deflection()"
   ]
  },
  {
   "cell_type": "code",
   "execution_count": 17,
   "id": "87f5e9da-6588-492b-9227-f8bb34137f02",
   "metadata": {},
   "outputs": [],
   "source": [
    "dic = {E:2.07*10**11, I: 1.277*10**(-9), L:1.2192}"
   ]
  },
  {
   "cell_type": "code",
   "execution_count": 18,
   "id": "d3f7b79f-5bdb-4f34-84cd-3e45cf87c056",
   "metadata": {},
   "outputs": [
    {
     "data": {
      "text/latex": [
       "$\\displaystyle 0.0508478248852269$"
      ],
      "text/plain": [
       "0.0508478248852269"
      ]
     },
     "execution_count": 18,
     "metadata": {},
     "output_type": "execute_result"
    }
   ],
   "source": [
    "dfl1 = viga.deflection().subs('x', L/4)\n",
    "dfl1 = dfl1.subs(dic)\n",
    "dfl1"
   ]
  },
  {
   "cell_type": "code",
   "execution_count": 21,
   "id": "6e3f974d-3e02-437e-a194-793eac6c68c1",
   "metadata": {},
   "outputs": [
    {
     "data": {
      "text/latex": [
       "$\\displaystyle 0.0508478248852269$"
      ],
      "text/plain": [
       "0.0508478248852269"
      ]
     },
     "execution_count": 21,
     "metadata": {},
     "output_type": "execute_result"
    }
   ],
   "source": [
    "dfl2 = viga.deflection().subs('x', (3*L)/4)\n",
    "dfl2 = dfl2.subs(dic)\n",
    "dfl2"
   ]
  },
  {
   "cell_type": "code",
   "execution_count": 22,
   "id": "96f45652-4ef4-42ed-b0ab-98f52bb9e9fb",
   "metadata": {},
   "outputs": [],
   "source": [
    "om,d1,d2,d3,g, m1, m2, m3 = symbols('omega delta_1 delta_2 delta_3 g m_1 m_2 m_3')"
   ]
  },
  {
   "cell_type": "code",
   "execution_count": 30,
   "id": "3d465526-1e92-48ed-9969-52cac2f4e9ff",
   "metadata": {},
   "outputs": [
    {
     "data": {
      "text/latex": [
       "$\\displaystyle \\left(\\frac{g \\left(\\delta_{1} m_{1} + \\delta_{2} m_{2}\\right)}{\\delta_{1}^{2} m_{1} + \\delta_{2}^{2} m_{2}}\\right)^{0.5}$"
      ],
      "text/plain": [
       "(g*(delta_1*m_1 + delta_2*m_2)/(delta_1**2*m_1 + delta_2**2*m_2))**0.5"
      ]
     },
     "execution_count": 30,
     "metadata": {},
     "output_type": "execute_result"
    }
   ],
   "source": [
    "om = (g*((m1*d1)+(m2*d2))/((m1*d1**2)+(m2*d2**2)))**0.5\n",
    "om"
   ]
  },
  {
   "cell_type": "code",
   "execution_count": 33,
   "id": "ab1e40b4-1d05-44ac-9b84-05c44e43f212",
   "metadata": {},
   "outputs": [],
   "source": [
    "dic1 = {m1:36.2874,m2:36.2874, d1:dfl1, d2:dfl2, g:9.81}"
   ]
  },
  {
   "cell_type": "code",
   "execution_count": 34,
   "id": "df14b25a-6040-4135-9749-d177d31d1b41",
   "metadata": {},
   "outputs": [
    {
     "data": {
      "text/latex": [
       "$\\displaystyle 13.8898742444378$"
      ],
      "text/plain": [
       "13.8898742444378"
      ]
     },
     "execution_count": 34,
     "metadata": {},
     "output_type": "execute_result"
    }
   ],
   "source": [
    "om.subs(dic1)"
   ]
  },
  {
   "cell_type": "code",
   "execution_count": null,
   "id": "be55f339-14d1-4380-b2a8-241308affce6",
   "metadata": {},
   "outputs": [],
   "source": []
  }
 ],
 "metadata": {
  "kernelspec": {
   "display_name": "Python 3",
   "language": "python",
   "name": "python3"
  },
  "language_info": {
   "codemirror_mode": {
    "name": "ipython",
    "version": 3
   },
   "file_extension": ".py",
   "mimetype": "text/x-python",
   "name": "python",
   "nbconvert_exporter": "python",
   "pygments_lexer": "ipython3",
   "version": "3.8.8"
  }
 },
 "nbformat": 4,
 "nbformat_minor": 5
}
