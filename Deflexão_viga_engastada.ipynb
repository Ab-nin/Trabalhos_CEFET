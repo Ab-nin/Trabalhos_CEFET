{
 "cells": [
  {
   "cell_type": "markdown",
   "id": "3d402057-2df6-404a-8ba5-838905732901",
   "metadata": {},
   "source": [
    "## Trabalho de Resistência dos Materiais II"
   ]
  },
  {
   "cell_type": "markdown",
   "id": "c3e64c40-f9d1-4089-8011-265e9b5441b5",
   "metadata": {},
   "source": [
    "Tema: Deflexão em uma viga em balanço"
   ]
  },
  {
   "cell_type": "markdown",
   "id": "6e80e0f8-f555-4dbd-8865-18fc8616672a",
   "metadata": {},
   "source": [
    "---"
   ]
  },
  {
   "cell_type": "code",
   "execution_count": 1,
   "id": "f82911e9-21c3-4bf2-bd90-348fe0ce9546",
   "metadata": {},
   "outputs": [],
   "source": [
    "from sympy import *\n",
    "from sympy.physics.continuum_mechanics import Beam\n",
    "import numpy as np"
   ]
  },
  {
   "cell_type": "code",
   "execution_count": 2,
   "id": "8aa17512-7a60-47fe-8542-73bdcd3cc64c",
   "metadata": {},
   "outputs": [],
   "source": [
    "R0,RL,P,x = symbols('R_0 R_L P x')\n",
    "L,E,I = symbols('L E I ', positive = True)"
   ]
  },
  {
   "cell_type": "code",
   "execution_count": 3,
   "id": "d79705f3-9f49-43da-95a5-f6c091873c98",
   "metadata": {},
   "outputs": [],
   "source": [
    "#Criando o elemento viga\n",
    "viga = Beam(L,E,I)"
   ]
  },
  {
   "cell_type": "code",
   "execution_count": 4,
   "id": "4c10e436-bf0d-4552-8826-4108e294d627",
   "metadata": {},
   "outputs": [],
   "source": [
    "#Aplicando uma carga genérica na extrimidade da viga\n",
    "viga.apply_load(P,L,-1)"
   ]
  },
  {
   "cell_type": "code",
   "execution_count": 5,
   "id": "9e36dd67-09e0-476c-8be7-d85dff18fc98",
   "metadata": {},
   "outputs": [],
   "source": [
    "#Definindo o suporte fixo da viga\n",
    "viga.apply_support(0, type='fixed')"
   ]
  },
  {
   "cell_type": "code",
   "execution_count": 6,
   "id": "7d43ced3-b151-4956-ad8f-c2d6b7c2d513",
   "metadata": {},
   "outputs": [
    {
     "name": "stderr",
     "output_type": "stream",
     "text": [
      "C:\\Users\\abner\\anaconda3\\lib\\site-packages\\sympy\\plotting\\plot.py:1376: MatplotlibDeprecationWarning: The 's' parameter of annotate() has been renamed 'text' since Matplotlib 3.3; support for the old name will be dropped two minor releases later.\n",
      "  ax.annotate(**a)\n"
     ]
    },
    {
     "data": {
      "image/png": "[encoded data removed]",
      "text/plain": [
       "<Figure size 432x288 with 1 Axes>"
      ]
     },
     "metadata": {
      "needs_background": "light"
     },
     "output_type": "display_data"
    }
   ],
   "source": [
    "viga.draw().show();"
   ]
  },
  {
   "cell_type": "code",
   "execution_count": 7,
   "id": "05fc587f-3feb-4766-95ad-783fb6b54861",
   "metadata": {},
   "outputs": [
    {
     "data": {
      "text/latex": [
       "$\\displaystyle M_{0} {\\left\\langle x \\right\\rangle}^{-2} + P {\\left\\langle - L + x \\right\\rangle}^{-1} + R_{0} {\\left\\langle x \\right\\rangle}^{-1}$"
      ],
      "text/plain": [
       "M_0*SingularityFunction(x, 0, -2) + P*SingularityFunction(x, L, -1) + R_0*SingularityFunction(x, 0, -1)"
      ]
     },
     "execution_count": 7,
     "metadata": {},
     "output_type": "execute_result"
    }
   ],
   "source": [
    "#Escrevendo a função do carregamento\n",
    "viga.load"
   ]
  },
  {
   "cell_type": "code",
   "execution_count": 8,
   "id": "323197a0-cde5-4f6d-98ff-5a57017dc5af",
   "metadata": {},
   "outputs": [],
   "source": [
    "M0,R0 = symbols('M_0 R_0')"
   ]
  },
  {
   "cell_type": "code",
   "execution_count": 9,
   "id": "6d0998b1-5ee0-4b39-afdf-24ec900ba720",
   "metadata": {},
   "outputs": [],
   "source": [
    "#Encontrando as reações nos apoios\n",
    "viga.solve_for_reaction_loads(M0,R0)"
   ]
  },
  {
   "cell_type": "code",
   "execution_count": 10,
   "id": "877996d6-3c2d-4798-93a5-1dca04d59c02",
   "metadata": {},
   "outputs": [],
   "source": [
    "viga.reaction_loads;"
   ]
  },
  {
   "cell_type": "code",
   "execution_count": 11,
   "id": "701f7fb8-4538-472c-9793-4546966f96ca",
   "metadata": {},
   "outputs": [
    {
     "data": {
      "text/latex": [
       "$\\displaystyle L P$"
      ],
      "text/plain": [
       "L*P"
      ]
     },
     "execution_count": 11,
     "metadata": {},
     "output_type": "execute_result"
    }
   ],
   "source": [
    "viga.reaction_loads[M0] #momento"
   ]
  },
  {
   "cell_type": "code",
   "execution_count": 12,
   "id": "aa05c3a3-0b19-4e92-a819-750fcbd7025f",
   "metadata": {},
   "outputs": [
    {
     "data": {
      "text/latex": [
       "$\\displaystyle - P$"
      ],
      "text/plain": [
       "-P"
      ]
     },
     "execution_count": 12,
     "metadata": {},
     "output_type": "execute_result"
    }
   ],
   "source": [
    "viga.reaction_loads[R0] #força de reação"
   ]
  },
  {
   "cell_type": "code",
   "execution_count": 13,
   "id": "c3dcfe6c-4ff2-4ed2-9063-6c91a64b3f51",
   "metadata": {},
   "outputs": [
    {
     "data": {
      "text/latex": [
       "$\\displaystyle L P {\\left\\langle x \\right\\rangle}^{-2} - P {\\left\\langle x \\right\\rangle}^{-1} + P {\\left\\langle - L + x \\right\\rangle}^{-1}$"
      ],
      "text/plain": [
       "L*P*SingularityFunction(x, 0, -2) - P*SingularityFunction(x, 0, -1) + P*SingularityFunction(x, L, -1)"
      ]
     },
     "execution_count": 13,
     "metadata": {},
     "output_type": "execute_result"
    }
   ],
   "source": [
    "#Reescrevendo a equação de carregamento após ter descoberto o valor das reações nos apoios\n",
    "viga.load"
   ]
  },
  {
   "cell_type": "code",
   "execution_count": 14,
   "id": "f9ebb5b4-bdc5-41b6-82ce-57b643b311f6",
   "metadata": {},
   "outputs": [
    {
     "data": {
      "text/latex": [
       "$\\displaystyle - L P {\\left\\langle x \\right\\rangle}^{-1} + P {\\left\\langle x \\right\\rangle}^{0} - P {\\left\\langle - L + x \\right\\rangle}^{0}$"
      ],
      "text/plain": [
       "-L*P*SingularityFunction(x, 0, -1) + P*SingularityFunction(x, 0, 0) - P*SingularityFunction(x, L, 0)"
      ]
     },
     "execution_count": 14,
     "metadata": {},
     "output_type": "execute_result"
    }
   ],
   "source": [
    "#Equação do cisalhamento\n",
    "viga.shear_force()"
   ]
  },
  {
   "cell_type": "code",
   "execution_count": 15,
   "id": "d306d979-2cfe-49bc-99c0-7eaa92914d99",
   "metadata": {},
   "outputs": [
    {
     "data": {
      "text/latex": [
       "$\\displaystyle - L P {\\left\\langle x \\right\\rangle}^{0} + P {\\left\\langle x \\right\\rangle}^{1} - P {\\left\\langle - L + x \\right\\rangle}^{1}$"
      ],
      "text/plain": [
       "-L*P*SingularityFunction(x, 0, 0) + P*SingularityFunction(x, 0, 1) - P*SingularityFunction(x, L, 1)"
      ]
     },
     "execution_count": 15,
     "metadata": {},
     "output_type": "execute_result"
    }
   ],
   "source": [
    "#escrevendo equação do momento\n",
    "viga.bending_moment()"
   ]
  },
  {
   "cell_type": "code",
   "execution_count": 16,
   "id": "73dc5665-8408-484d-a4cc-1f6511285ec7",
   "metadata": {},
   "outputs": [
    {
     "data": {
      "text/latex": [
       "$\\displaystyle - \\frac{- L P {\\left\\langle x \\right\\rangle}^{1} + \\frac{P {\\left\\langle x \\right\\rangle}^{2}}{2} - \\frac{P {\\left\\langle - L + x \\right\\rangle}^{2}}{2}}{E I}$"
      ],
      "text/plain": [
       "-(-L*P*SingularityFunction(x, 0, 1) + P*SingularityFunction(x, 0, 2)/2 - P*SingularityFunction(x, L, 2)/2)/(E*I)"
      ]
     },
     "execution_count": 16,
     "metadata": {},
     "output_type": "execute_result"
    }
   ],
   "source": [
    "# Escrevendo equação da inclinação\n",
    "viga.slope()"
   ]
  },
  {
   "cell_type": "code",
   "execution_count": 17,
   "id": "8b9816ec-07bc-4593-a096-cce5817f147f",
   "metadata": {},
   "outputs": [
    {
     "data": {
      "text/latex": [
       "$\\displaystyle - \\frac{- \\frac{L P {\\left\\langle x \\right\\rangle}^{2}}{2} + \\frac{P {\\left\\langle x \\right\\rangle}^{3}}{6} - \\frac{P {\\left\\langle - L + x \\right\\rangle}^{3}}{6}}{E I}$"
      ],
      "text/plain": [
       "-(-L*P*SingularityFunction(x, 0, 2)/2 + P*SingularityFunction(x, 0, 3)/6 - P*SingularityFunction(x, L, 3)/6)/(E*I)"
      ]
     },
     "execution_count": 17,
     "metadata": {},
     "output_type": "execute_result"
    }
   ],
   "source": [
    "# Escrevendo equação da deflexão\n",
    "viga.deflection()"
   ]
  },
  {
   "cell_type": "code",
   "execution_count": 51,
   "id": "cd31587b-715c-416f-886d-19e1ccc33a4b",
   "metadata": {},
   "outputs": [
    {
     "data": {
      "text/latex": [
       "$\\displaystyle \\frac{L^{3} P}{3 E I}$"
      ],
      "text/plain": [
       "L**3*P/(3*E*I)"
      ]
     },
     "execution_count": 51,
     "metadata": {},
     "output_type": "execute_result"
    }
   ],
   "source": [
    "# Calculando a deflexão no ponto de aplicação da força\n",
    "deflexao = viga.deflection().subs('x',L)\n",
    "deflexao"
   ]
  },
  {
   "cell_type": "markdown",
   "id": "80d11e7f-3036-43c2-af3d-edbdfe66f3c8",
   "metadata": {},
   "source": [
    "#### Calculando o momento de inércia da viga"
   ]
  },
  {
   "cell_type": "markdown",
   "id": "cde743d3-d646-4cff-bb54-9355ca74f21e",
   "metadata": {},
   "source": [
    "Dados geométricos: </br>\n",
    "\n",
    "L = 1120 mm; </br> \n",
    "D = 20 mm; </br>\n",
    "d = 16.64 mm"
   ]
  },
  {
   "cell_type": "code",
   "execution_count": 19,
   "id": "570b7381-30a9-4b68-9ad4-6a1e2b164b1e",
   "metadata": {},
   "outputs": [],
   "source": [
    "D,d,i= symbols('D d i')"
   ]
  },
  {
   "cell_type": "code",
   "execution_count": 20,
   "id": "fa883eda-f482-4584-92db-a03eb8ae43b1",
   "metadata": {},
   "outputs": [],
   "source": [
    "i = ((np.pi*((D**4)-(d**4)))/64)*10**12 #fórmula do momento de inércia"
   ]
  },
  {
   "cell_type": "code",
   "execution_count": 21,
   "id": "35cea78e-5569-47ea-886d-9ee15a88eb76",
   "metadata": {},
   "outputs": [],
   "source": [
    "dic1 = {D:0.02,d:0.01664} #Passando as dimenções dos diãmetros externo e interno"
   ]
  },
  {
   "cell_type": "code",
   "execution_count": 22,
   "id": "388706ce-f148-43a0-9fc5-10a77f67787f",
   "metadata": {},
   "outputs": [
    {
     "name": "stdout",
     "output_type": "stream",
     "text": [
      "O momento de inércia do cano é 4090.55731875131 mm^4.\n"
     ]
    }
   ],
   "source": [
    "i = i.subs(dic1)\n",
    "print(f'O momento de inércia do cano é {i} mm^4.')"
   ]
  },
  {
   "cell_type": "markdown",
   "id": "765559d2-3451-428c-8918-dfd9eecea0f4",
   "metadata": {},
   "source": [
    "#### Calculando o módulo de elasticidade"
   ]
  },
  {
   "cell_type": "code",
   "execution_count": 23,
   "id": "34dc704d-1030-4203-8d85-226778bfafcc",
   "metadata": {},
   "outputs": [],
   "source": [
    "# Definindo uma variável para a deflexão Máxima\n",
    "y = symbols('y')"
   ]
  },
  {
   "cell_type": "code",
   "execution_count": 24,
   "id": "3e23e158-4137-4cee-8536-14024810be95",
   "metadata": {},
   "outputs": [
    {
     "data": {
      "text/latex": [
       "$\\displaystyle y = \\frac{L^{3} P}{3 E I}$"
      ],
      "text/plain": [
       "Eq(y, L**3*P/(3*E*I))"
      ]
     },
     "execution_count": 24,
     "metadata": {},
     "output_type": "execute_result"
    }
   ],
   "source": [
    "#Escrevendo uma igualdade para a deflexão da viga\n",
    "eq_y = Eq(y, deflexao)\n",
    "eq_y"
   ]
  },
  {
   "cell_type": "code",
   "execution_count": 52,
   "id": "c54a1e8e-45bd-4c41-a51b-89eb6a52528c",
   "metadata": {},
   "outputs": [],
   "source": [
    "# Biblioteca utilizadas pra importar os dados do excel\n",
    "from pandas import *\n",
    "import pandas as pd"
   ]
  },
  {
   "cell_type": "code",
   "execution_count": 26,
   "id": "2b228c9a-6e15-438e-a0e7-8b814f9227bf",
   "metadata": {},
   "outputs": [
    {
     "data": {
      "text/html": [
       "<div>\n",
       "<style scoped>\n",
       "    .dataframe tbody tr th:only-of-type {\n",
       "        vertical-align: middle;\n",
       "    }\n",
       "\n",
       "    .dataframe tbody tr th {\n",
       "        vertical-align: top;\n",
       "    }\n",
       "\n",
       "    .dataframe thead th {\n",
       "        text-align: right;\n",
       "    }\n",
       "</style>\n",
       "<table border=\"1\" class=\"dataframe\">\n",
       "  <thead>\n",
       "    <tr style=\"text-align: right;\">\n",
       "      <th></th>\n",
       "      <th>Peso (N)</th>\n",
       "      <th>Deflexão (mm)</th>\n",
       "    </tr>\n",
       "  </thead>\n",
       "  <tbody>\n",
       "    <tr>\n",
       "      <th>0</th>\n",
       "      <td>0.00000</td>\n",
       "      <td>0</td>\n",
       "    </tr>\n",
       "    <tr>\n",
       "      <th>1</th>\n",
       "      <td>0.09807</td>\n",
       "      <td>3</td>\n",
       "    </tr>\n",
       "    <tr>\n",
       "      <th>2</th>\n",
       "      <td>0.19610</td>\n",
       "      <td>5</td>\n",
       "    </tr>\n",
       "    <tr>\n",
       "      <th>3</th>\n",
       "      <td>0.29420</td>\n",
       "      <td>9</td>\n",
       "    </tr>\n",
       "    <tr>\n",
       "      <th>4</th>\n",
       "      <td>0.39230</td>\n",
       "      <td>11</td>\n",
       "    </tr>\n",
       "    <tr>\n",
       "      <th>5</th>\n",
       "      <td>0.49030</td>\n",
       "      <td>14</td>\n",
       "    </tr>\n",
       "    <tr>\n",
       "      <th>6</th>\n",
       "      <td>0.58840</td>\n",
       "      <td>17</td>\n",
       "    </tr>\n",
       "    <tr>\n",
       "      <th>7</th>\n",
       "      <td>0.68650</td>\n",
       "      <td>19</td>\n",
       "    </tr>\n",
       "  </tbody>\n",
       "</table>\n",
       "</div>"
      ],
      "text/plain": [
       "   Peso (N)  Deflexão (mm)\n",
       "0   0.00000              0\n",
       "1   0.09807              3\n",
       "2   0.19610              5\n",
       "3   0.29420              9\n",
       "4   0.39230             11\n",
       "5   0.49030             14\n",
       "6   0.58840             17\n",
       "7   0.68650             19"
      ]
     },
     "execution_count": 26,
     "metadata": {},
     "output_type": "execute_result"
    }
   ],
   "source": [
    "dados = pd.read_excel('dados.xlsx')\n",
    "dados"
   ]
  },
  {
   "cell_type": "code",
   "execution_count": 27,
   "id": "78516ca5-f8e8-4c8c-b8f0-15eba39c0b42",
   "metadata": {},
   "outputs": [],
   "source": [
    "eixo_x = dados['Peso (N)'].values"
   ]
  },
  {
   "cell_type": "code",
   "execution_count": 28,
   "id": "1ee2eeb0-53e3-4886-916d-848db6fb197b",
   "metadata": {},
   "outputs": [],
   "source": [
    "eixo_y = dados['Deflexão (mm)'].values"
   ]
  },
  {
   "cell_type": "code",
   "execution_count": 29,
   "id": "5f62e9b4-0368-418f-b845-d2e148f0e565",
   "metadata": {},
   "outputs": [],
   "source": [
    "ex = np.ravel(eixo_x)\n",
    "ey = np.ravel(eixo_y)"
   ]
  },
  {
   "cell_type": "code",
   "execution_count": 31,
   "id": "2c5811c6-caf1-4cfc-a3f3-737b7dd58dcc",
   "metadata": {},
   "outputs": [],
   "source": [
    "coef = np.polyfit (ex,ey,1)"
   ]
  },
  {
   "cell_type": "code",
   "execution_count": 32,
   "id": "80984728-8cdd-4729-8209-abd18a0ac349",
   "metadata": {},
   "outputs": [],
   "source": [
    "k = coef[0] #Determinando o coeficiente angular da reta de regressão, que melhor se adequa aos pontos obtidos no experimento (esse coeficiente angular equivale ao coeficiente de rigidez, k, do tubo, k é dado em N/mm)"
   ]
  },
  {
   "cell_type": "code",
   "execution_count": 44,
   "id": "6aa2faa7-d412-49ce-a99c-ea95a5151785",
   "metadata": {},
   "outputs": [
    {
     "name": "stdout",
     "output_type": "stream",
     "text": [
      "A equação fica F = 28.162685142980088x.\n"
     ]
    }
   ],
   "source": [
    "eq = f'{k}x'\n",
    "print(f'A equação fica F = {eq}.')"
   ]
  },
  {
   "cell_type": "code",
   "execution_count": 30,
   "id": "151b43df-b370-4250-95a5-7496a2332a3b",
   "metadata": {},
   "outputs": [],
   "source": [
    "import matplotlib.pyplot as plt"
   ]
  },
  {
   "cell_type": "code",
   "execution_count": 49,
   "id": "5025db4c-793a-4eaa-b8e6-77b4b6281bb6",
   "metadata": {},
   "outputs": [
    {
     "data": {
      "image/png": "[encoded data removed]",
      "text/plain": [
       "<Figure size 600x400 with 1 Axes>"
      ]
     },
     "metadata": {
      "needs_background": "light"
     },
     "output_type": "display_data"
    }
   ],
   "source": [
    "plt.figure(dpi=100)\n",
    "plt.scatter(ex, ey, color='blue', label='Dados')\n",
    "plt.plot(ex, np.polyval(coef, ex), color='red', label='Ajuste Polinomial')\n",
    "plt.legend()\n",
    "plt.xlabel('Peso (N)')\n",
    "plt.ylabel('Deflexão (mm)')\n",
    "plt.title('Peso(N) x Deflexão(mm) com ajuste polinomial')\n",
    "plt.grid()\n",
    "plt.show()"
   ]
  },
  {
   "cell_type": "code",
   "execution_count": 35,
   "id": "e1543bb7-2167-4c6e-b519-f51b9fadf10b",
   "metadata": {},
   "outputs": [],
   "source": [
    "K = symbols('K')"
   ]
  },
  {
   "cell_type": "code",
   "execution_count": 36,
   "id": "2154f7ea-6f98-48bb-a934-85c55ff51b04",
   "metadata": {},
   "outputs": [],
   "source": [
    "eq_e = L**3/(3*K*I)"
   ]
  },
  {
   "cell_type": "code",
   "execution_count": 37,
   "id": "594286a7-d06a-4504-aba0-94173b88978d",
   "metadata": {},
   "outputs": [
    {
     "data": {
      "text/latex": [
       "$\\displaystyle E = \\frac{L^{3}}{3 I K}$"
      ],
      "text/plain": [
       "Eq(E, L**3/(3*I*K))"
      ]
     },
     "execution_count": 37,
     "metadata": {},
     "output_type": "execute_result"
    }
   ],
   "source": [
    "# Determinando o módulo de elasticidade a partr do K encontrado\n",
    "eq_E = Eq(E, eq_e)\n",
    "eq_E"
   ]
  },
  {
   "cell_type": "code",
   "execution_count": 38,
   "id": "757b50bb-ed9f-46c3-ba1b-44fc0f40990a",
   "metadata": {},
   "outputs": [],
   "source": [
    "dicf = {L:1120, K:k, I:i}"
   ]
  },
  {
   "cell_type": "code",
   "execution_count": 40,
   "id": "7ebbf725-d9ee-463b-a939-bca6e517565c",
   "metadata": {},
   "outputs": [
    {
     "name": "stdout",
     "output_type": "stream",
     "text": [
      "O o módulo de elasticidade E é 4065.14715110010 MPa.\n"
     ]
    }
   ],
   "source": [
    "print(f'O o módulo de elasticidade E é {eq_e.subs(dicf)} MPa.')"
   ]
  }
 ],
 "metadata": {
  "kernelspec": {
   "display_name": "Python 3",
   "language": "python",
   "name": "python3"
  },
  "language_info": {
   "codemirror_mode": {
    "name": "ipython",
    "version": 3
   },
   "file_extension": ".py",
   "mimetype": "text/x-python",
   "name": "python",
   "nbconvert_exporter": "python",
   "pygments_lexer": "ipython3",
   "version": "3.8.8"
  }
 },
 "nbformat": 4,
 "nbformat_minor": 5
}
