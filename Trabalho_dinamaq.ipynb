{
 "cells": [
  {
   "cell_type": "markdown",
   "id": "98a8b4c5-13d8-4fa4-a64d-4b9f768808fc",
   "metadata": {},
   "source": [
    "## Trabalho de dinâmica das máquinas"
   ]
  },
  {
   "cell_type": "code",
   "execution_count": 1,
   "id": "118c1379-f935-4823-9fb2-b07d5ffbb73b",
   "metadata": {},
   "outputs": [],
   "source": [
    "from sympy import *\n",
    "from sympy.physics.continuum_mechanics import Beam\n",
    "from numpy import *\n",
    "import numpy as np\n",
    "import pandas as pd\n",
    "import matplotlib.pyplot as plt"
   ]
  },
  {
   "cell_type": "code",
   "execution_count": 2,
   "id": "c2d9d904-d323-41f5-be9c-847b01b7e107",
   "metadata": {},
   "outputs": [],
   "source": [
    "R0,RL,P,x,s = symbols('R0 R_L P x s') #criando as reações nos apoios (R0 e RL) e a carga exercida pelas engrenagens(P)\n",
    "L,E,I = symbols('L E I ', positive = True) #criando os parametros geométricos e mecânicos"
   ]
  },
  {
   "cell_type": "code",
   "execution_count": 3,
   "id": "0263191d-dd20-4572-919e-d9e28bb8e557",
   "metadata": {},
   "outputs": [],
   "source": [
    "viga = Beam(L,E,I) #criando o elemento viga"
   ]
  },
  {
   "cell_type": "code",
   "execution_count": 4,
   "id": "fa2c216b-af17-4a45-81f2-d66e6f7eeead",
   "metadata": {},
   "outputs": [],
   "source": [
    "viga.apply_load(P,L/4,-1)  #aplicando o carregamento da primeira engrenagem, os parametros são (valor da força, posição de aplicação e o expoente da Macaulay)\n",
    "viga.apply_load(P,(3*L)/4,-1)"
   ]
  },
  {
   "cell_type": "code",
   "execution_count": 5,
   "id": "114dd6fb-9767-4011-964f-33951c1edc22",
   "metadata": {},
   "outputs": [],
   "source": [
    "viga.apply_support(0,type='pin') #passando os tipos dos apoios\n",
    "viga.apply_support(L,type='roller')"
   ]
  },
  {
   "cell_type": "code",
   "execution_count": 6,
   "id": "c645ed30-cb94-4690-aab5-f9701cf923af",
   "metadata": {},
   "outputs": [
    {
     "name": "stderr",
     "output_type": "stream",
     "text": [
      "C:\\Users\\abner\\anaconda3\\lib\\site-packages\\sympy\\plotting\\plot.py:1376: MatplotlibDeprecationWarning: The 's' parameter of annotate() has been renamed 'text' since Matplotlib 3.3; support for the old name will be dropped two minor releases later.\n",
      "  ax.annotate(**a)\n"
     ]
    },
    {
     "data": {
      "image/png": "[encoded data removed]",
      "text/plain": [
       "<Figure size 432x288 with 1 Axes>"
      ]
     },
     "metadata": {
      "needs_background": "light"
     },
     "output_type": "display_data"
    }
   ],
   "source": [
    "viga.draw().show()"
   ]
  },
  {
   "cell_type": "code",
   "execution_count": 7,
   "id": "1096e528-78ab-42e2-b341-0e709f1ca4f1",
   "metadata": {},
   "outputs": [
    {
     "data": {
      "text/latex": [
       "$\\displaystyle P {\\left\\langle - \\frac{L}{4} + x \\right\\rangle}^{-1} + P {\\left\\langle - \\frac{3 L}{4} + x \\right\\rangle}^{-1} + R_{0} {\\left\\langle x \\right\\rangle}^{-1} + R_{L} {\\left\\langle - L + x \\right\\rangle}^{-1}$"
      ],
      "text/plain": [
       "P*SingularityFunction(x, L/4, -1) + P*SingularityFunction(x, 3*L/4, -1) + R_0*SingularityFunction(x, 0, -1) + R_L*SingularityFunction(x, L, -1)"
      ]
     },
     "execution_count": 7,
     "metadata": {},
     "output_type": "execute_result"
    }
   ],
   "source": [
    "viga.load"
   ]
  },
  {
   "cell_type": "code",
   "execution_count": 8,
   "id": "650085a5-edd9-472b-a217-f9a7dd20ec82",
   "metadata": {},
   "outputs": [],
   "source": [
    "r0,rl = symbols('R_0 R_L')"
   ]
  },
  {
   "cell_type": "code",
   "execution_count": 9,
   "id": "93e9849d-016c-4131-b3ab-d30902225cc0",
   "metadata": {},
   "outputs": [],
   "source": [
    "viga.solve_for_reaction_loads(r0,rl) #descobirndo as reações nos apoios"
   ]
  },
  {
   "cell_type": "code",
   "execution_count": 10,
   "id": "7f6c053a-3355-490d-9d6a-e51db2d57ea0",
   "metadata": {},
   "outputs": [
    {
     "data": {
      "text/latex": [
       "$\\displaystyle - P$"
      ],
      "text/plain": [
       "-P"
      ]
     },
     "execution_count": 10,
     "metadata": {},
     "output_type": "execute_result"
    }
   ],
   "source": [
    "viga.reaction_loads[r0] #reação no primeiro apoio"
   ]
  },
  {
   "cell_type": "code",
   "execution_count": 11,
   "id": "567222d9-e225-4f4a-9161-ed320bae7b57",
   "metadata": {},
   "outputs": [
    {
     "data": {
      "text/latex": [
       "$\\displaystyle - P$"
      ],
      "text/plain": [
       "-P"
      ]
     },
     "execution_count": 11,
     "metadata": {},
     "output_type": "execute_result"
    }
   ],
   "source": [
    "viga.reaction_loads[rl] #reação no segundo apoio"
   ]
  },
  {
   "cell_type": "code",
   "execution_count": 12,
   "id": "e9a1e16f-deb7-46c9-a045-24d508f983da",
   "metadata": {},
   "outputs": [
    {
     "data": {
      "text/latex": [
       "$\\displaystyle - P {\\left\\langle x \\right\\rangle}^{-1} + P {\\left\\langle - \\frac{L}{4} + x \\right\\rangle}^{-1} + P {\\left\\langle - \\frac{3 L}{4} + x \\right\\rangle}^{-1} - P {\\left\\langle - L + x \\right\\rangle}^{-1}$"
      ],
      "text/plain": [
       "-P*SingularityFunction(x, 0, -1) + P*SingularityFunction(x, L/4, -1) + P*SingularityFunction(x, 3*L/4, -1) - P*SingularityFunction(x, L, -1)"
      ]
     },
     "execution_count": 12,
     "metadata": {},
     "output_type": "execute_result"
    }
   ],
   "source": [
    "viga.load #equação da carga"
   ]
  },
  {
   "cell_type": "code",
   "execution_count": 13,
   "id": "9b9978b4-1d8e-4b66-bc93-4942f5f30687",
   "metadata": {},
   "outputs": [
    {
     "data": {
      "text/latex": [
       "$\\displaystyle P {\\left\\langle x \\right\\rangle}^{0} - P {\\left\\langle - \\frac{L}{4} + x \\right\\rangle}^{0} - P {\\left\\langle - \\frac{3 L}{4} + x \\right\\rangle}^{0} + P {\\left\\langle - L + x \\right\\rangle}^{0}$"
      ],
      "text/plain": [
       "P*SingularityFunction(x, 0, 0) - P*SingularityFunction(x, L/4, 0) - P*SingularityFunction(x, 3*L/4, 0) + P*SingularityFunction(x, L, 0)"
      ]
     },
     "execution_count": 13,
     "metadata": {},
     "output_type": "execute_result"
    }
   ],
   "source": [
    "viga.shear_force()  #equação do esforço cortante"
   ]
  },
  {
   "cell_type": "code",
   "execution_count": 14,
   "id": "9c9b073f-a422-4d17-875b-47d6718a7df0",
   "metadata": {},
   "outputs": [
    {
     "data": {
      "text/latex": [
       "$\\displaystyle P {\\left\\langle x \\right\\rangle}^{1} - P {\\left\\langle - \\frac{L}{4} + x \\right\\rangle}^{1} - P {\\left\\langle - \\frac{3 L}{4} + x \\right\\rangle}^{1} + P {\\left\\langle - L + x \\right\\rangle}^{1}$"
      ],
      "text/plain": [
       "P*SingularityFunction(x, 0, 1) - P*SingularityFunction(x, L/4, 1) - P*SingularityFunction(x, 3*L/4, 1) + P*SingularityFunction(x, L, 1)"
      ]
     },
     "execution_count": 14,
     "metadata": {},
     "output_type": "execute_result"
    }
   ],
   "source": [
    "viga.bending_moment()  #equação do momento fletor"
   ]
  },
  {
   "cell_type": "code",
   "execution_count": 15,
   "id": "2cf11b4d-972c-4082-8f9b-92483cf8d1fb",
   "metadata": {},
   "outputs": [
    {
     "data": {
      "text/latex": [
       "$\\displaystyle \\frac{\\frac{3 L^{2} P}{32} - \\frac{P {\\left\\langle x \\right\\rangle}^{2}}{2} + \\frac{P {\\left\\langle - \\frac{L}{4} + x \\right\\rangle}^{2}}{2} + \\frac{P {\\left\\langle - \\frac{3 L}{4} + x \\right\\rangle}^{2}}{2} - \\frac{P {\\left\\langle - L + x \\right\\rangle}^{2}}{2}}{E I}$"
      ],
      "text/plain": [
       "(3*L**2*P/32 - P*SingularityFunction(x, 0, 2)/2 + P*SingularityFunction(x, L/4, 2)/2 + P*SingularityFunction(x, 3*L/4, 2)/2 - P*SingularityFunction(x, L, 2)/2)/(E*I)"
      ]
     },
     "execution_count": 15,
     "metadata": {},
     "output_type": "execute_result"
    }
   ],
   "source": [
    "viga.slope()  #equação da inclinação"
   ]
  },
  {
   "cell_type": "code",
   "execution_count": 16,
   "id": "3210bb6c-0670-43b0-b586-09343a109990",
   "metadata": {},
   "outputs": [
    {
     "data": {
      "text/latex": [
       "$\\displaystyle \\frac{\\frac{3 L^{2} P x}{32} - \\frac{P {\\left\\langle x \\right\\rangle}^{3}}{6} + \\frac{P {\\left\\langle - \\frac{L}{4} + x \\right\\rangle}^{3}}{6} + \\frac{P {\\left\\langle - \\frac{3 L}{4} + x \\right\\rangle}^{3}}{6} - \\frac{P {\\left\\langle - L + x \\right\\rangle}^{3}}{6}}{E I}$"
      ],
      "text/plain": [
       "(3*L**2*P*x/32 - P*SingularityFunction(x, 0, 3)/6 + P*SingularityFunction(x, L/4, 3)/6 + P*SingularityFunction(x, 3*L/4, 3)/6 - P*SingularityFunction(x, L, 3)/6)/(E*I)"
      ]
     },
     "execution_count": 16,
     "metadata": {},
     "output_type": "execute_result"
    }
   ],
   "source": [
    "viga.deflection()  #equação da deflexão"
   ]
  },
  {
   "cell_type": "code",
   "execution_count": 17,
   "id": "879d48ef-b462-47fb-b512-026cd9560b07",
   "metadata": {},
   "outputs": [],
   "source": [
    "dic = {L:1.2192, P:356, E:207*10**9, I:1.277*10**(-9)}"
   ]
  },
  {
   "cell_type": "code",
   "execution_count": 18,
   "id": "8847bdd7-23d0-48ce-8b65-7dea7cf39083",
   "metadata": {},
   "outputs": [
    {
     "data": {
      "text/latex": [
       "$\\displaystyle \\frac{L^{3} P}{48 E I}$"
      ],
      "text/plain": [
       "L**3*P/(48*E*I)"
      ]
     },
     "execution_count": 18,
     "metadata": {},
     "output_type": "execute_result"
    }
   ],
   "source": [
    "dfl1 = viga.deflection().subs('x', L/4)\n",
    "dfl1"
   ]
  },
  {
   "cell_type": "code",
   "execution_count": 19,
   "id": "9fb5def5-2fee-44db-bcec-e5eca23723c5",
   "metadata": {},
   "outputs": [
    {
     "data": {
      "text/latex": [
       "$\\displaystyle 0.0508478248852269$"
      ],
      "text/plain": [
       "0.0508478248852269"
      ]
     },
     "execution_count": 19,
     "metadata": {},
     "output_type": "execute_result"
    }
   ],
   "source": [
    "dfl1 = dfl1.subs(dic)  #deflexão no ponto 1\n",
    "dfl1"
   ]
  },
  {
   "cell_type": "code",
   "execution_count": 20,
   "id": "88b2c29f-4fba-40f1-a9a6-2a884b0a591a",
   "metadata": {},
   "outputs": [
    {
     "data": {
      "text/latex": [
       "$\\displaystyle \\frac{L^{3} P}{48 E I}$"
      ],
      "text/plain": [
       "L**3*P/(48*E*I)"
      ]
     },
     "execution_count": 20,
     "metadata": {},
     "output_type": "execute_result"
    }
   ],
   "source": [
    "dfl2 = viga.deflection().subs('x',(3*L/4))  #deflexão no ponto 2\n",
    "dfl2"
   ]
  },
  {
   "cell_type": "code",
   "execution_count": 21,
   "id": "a8b8dcd7-32e0-4880-a36d-0b5e1bec9609",
   "metadata": {},
   "outputs": [
    {
     "data": {
      "text/latex": [
       "$\\displaystyle 0.0508478248852269$"
      ],
      "text/plain": [
       "0.0508478248852269"
      ]
     },
     "execution_count": 21,
     "metadata": {},
     "output_type": "execute_result"
    }
   ],
   "source": [
    "dfl2 = dfl2.subs(dic)\n",
    "dfl2"
   ]
  },
  {
   "cell_type": "code",
   "execution_count": 22,
   "id": "ca978c46-65bb-4d4f-9375-d211700764c3",
   "metadata": {},
   "outputs": [
    {
     "data": {
      "image/png": "[encoded data removed]",
      "text/plain": [
       "<Figure size 432x288 with 1 Axes>"
      ]
     },
     "metadata": {
      "needs_background": "light"
     },
     "output_type": "display_data"
    },
    {
     "data": {
      "text/plain": [
       "<sympy.plotting.plot.Plot at 0x15f3d5694f0>"
      ]
     },
     "execution_count": 22,
     "metadata": {},
     "output_type": "execute_result"
    }
   ],
   "source": [
    "viga.plot_shear_force(dic)"
   ]
  },
  {
   "cell_type": "code",
   "execution_count": 23,
   "id": "672ff1f6-8aeb-42cd-b3d0-bfdb492a92e1",
   "metadata": {},
   "outputs": [
    {
     "data": {
      "image/png": "[encoded data removed]",
      "text/plain": [
       "<Figure size 432x288 with 1 Axes>"
      ]
     },
     "metadata": {
      "needs_background": "light"
     },
     "output_type": "display_data"
    },
    {
     "data": {
      "text/plain": [
       "<sympy.plotting.plot.Plot at 0x15f3d341dc0>"
      ]
     },
     "execution_count": 23,
     "metadata": {},
     "output_type": "execute_result"
    }
   ],
   "source": [
    "viga.plot_bending_moment(dic)"
   ]
  },
  {
   "cell_type": "code",
   "execution_count": 24,
   "id": "37ba998c-36f1-4fe6-a0bc-2b587951ab3c",
   "metadata": {},
   "outputs": [
    {
     "data": {
      "image/png": "[encoded data removed]",
      "text/plain": [
       "<Figure size 432x288 with 1 Axes>"
      ]
     },
     "metadata": {
      "needs_background": "light"
     },
     "output_type": "display_data"
    },
    {
     "data": {
      "text/plain": [
       "<sympy.plotting.plot.Plot at 0x15f3d569a00>"
      ]
     },
     "execution_count": 24,
     "metadata": {},
     "output_type": "execute_result"
    }
   ],
   "source": [
    "viga.plot_deflection(dic)"
   ]
  },
  {
   "cell_type": "markdown",
   "id": "c0edc41c-2dee-4d5f-bad7-80ae713aaef8",
   "metadata": {},
   "source": [
    "---"
   ]
  },
  {
   "cell_type": "markdown",
   "id": "3f7a96c8-41f0-4b25-8083-4284320ecb79",
   "metadata": {},
   "source": [
    "##### Encontrando a frequência pelo método de Rayleigh:"
   ]
  },
  {
   "cell_type": "code",
   "execution_count": 25,
   "id": "86f4d4a3-a2f0-48b3-b08e-dc7ba842c6ec",
   "metadata": {},
   "outputs": [],
   "source": [
    "w1,d1,d2,g, m1, m2 = symbols('omega delta_1 delta_2 g m_1 m_2')"
   ]
  },
  {
   "cell_type": "code",
   "execution_count": 26,
   "id": "b0240b81-9a63-4841-a19b-8b8de8d182cf",
   "metadata": {},
   "outputs": [
    {
     "data": {
      "text/latex": [
       "$\\displaystyle \\left(\\frac{g \\left(\\delta_{1} m_{1} + \\delta_{2} m_{2}\\right)}{\\delta_{1}^{2} m_{1} + \\delta_{2}^{2} m_{2}}\\right)^{0.5}$"
      ],
      "text/plain": [
       "(g*(delta_1*m_1 + delta_2*m_2)/(delta_1**2*m_1 + delta_2**2*m_2))**0.5"
      ]
     },
     "execution_count": 26,
     "metadata": {},
     "output_type": "execute_result"
    }
   ],
   "source": [
    "w1 = (g*((m1*d1)+(m2*d2))/((m1*d1**2)+(m2*d2**2)))**0.5\n",
    "w1"
   ]
  },
  {
   "cell_type": "code",
   "execution_count": 27,
   "id": "1940172e-b37a-410b-8784-8d80a458667b",
   "metadata": {},
   "outputs": [],
   "source": [
    "dic1 = {g:9.81,m1:36.2874,m2:36.2874,d1:dfl1,d2:dfl2}"
   ]
  },
  {
   "cell_type": "code",
   "execution_count": 28,
   "id": "151fa3db-0930-4962-ad5c-75ce7a403c43",
   "metadata": {},
   "outputs": [
    {
     "data": {
      "text/latex": [
       "$\\displaystyle 13.8898742444378$"
      ],
      "text/plain": [
       "13.8898742444378"
      ]
     },
     "execution_count": 28,
     "metadata": {},
     "output_type": "execute_result"
    }
   ],
   "source": [
    "w1.subs(dic1)"
   ]
  },
  {
   "cell_type": "markdown",
   "id": "0124f656-cbe6-4518-9dfe-7775dd4c5451",
   "metadata": {},
   "source": [
    "---"
   ]
  },
  {
   "cell_type": "markdown",
   "id": "4de9f4dc-1776-4cc5-9b90-bc1f32b887c9",
   "metadata": {},
   "source": [
    "* Encontrando a deflexão com a aplicação de uma carga unitária:"
   ]
  },
  {
   "cell_type": "code",
   "execution_count": 29,
   "id": "b66fddf3-ffd5-4db7-9094-a198c98d48c3",
   "metadata": {},
   "outputs": [],
   "source": [
    "## Criando uma viga com uma carga pontual em l/4:\n",
    "viga1 = Beam(L,E,I)"
   ]
  },
  {
   "cell_type": "code",
   "execution_count": 30,
   "id": "d058128f-5462-475d-a167-70580954f1a0",
   "metadata": {},
   "outputs": [],
   "source": [
    "viga1.apply_load(1,L/4,-1)"
   ]
  },
  {
   "cell_type": "code",
   "execution_count": 31,
   "id": "66347dc9-7b10-4962-942d-3cad6f964fa6",
   "metadata": {},
   "outputs": [],
   "source": [
    "viga1.apply_support(0,type='pin')\n",
    "viga1.apply_support(L,type='roller')"
   ]
  },
  {
   "cell_type": "code",
   "execution_count": 32,
   "id": "11bf95a8-eff6-4b36-8817-19b6244ab7c7",
   "metadata": {},
   "outputs": [
    {
     "data": {
      "image/png": "[encoded data removed]",
      "text/plain": [
       "<Figure size 432x288 with 1 Axes>"
      ]
     },
     "metadata": {
      "needs_background": "light"
     },
     "output_type": "display_data"
    }
   ],
   "source": [
    "viga1.draw().show()"
   ]
  },
  {
   "cell_type": "code",
   "execution_count": 33,
   "id": "d000b27f-6e5d-4a33-82dc-1321fe90c1ab",
   "metadata": {},
   "outputs": [
    {
     "data": {
      "text/latex": [
       "$\\displaystyle R_{0} {\\left\\langle x \\right\\rangle}^{-1} + R_{L} {\\left\\langle - L + x \\right\\rangle}^{-1} + {\\left\\langle - \\frac{L}{4} + x \\right\\rangle}^{-1}$"
      ],
      "text/plain": [
       "R_0*SingularityFunction(x, 0, -1) + R_L*SingularityFunction(x, L, -1) + SingularityFunction(x, L/4, -1)"
      ]
     },
     "execution_count": 33,
     "metadata": {},
     "output_type": "execute_result"
    }
   ],
   "source": [
    "viga1.load"
   ]
  },
  {
   "cell_type": "code",
   "execution_count": 34,
   "id": "8b184fbe-bcf4-4030-b5f2-d6d3511e33fe",
   "metadata": {},
   "outputs": [],
   "source": [
    "r0,rl = symbols('R_0 R_L')"
   ]
  },
  {
   "cell_type": "code",
   "execution_count": 35,
   "id": "92ebead4-7a6a-416f-87c0-9a494afd46c1",
   "metadata": {},
   "outputs": [],
   "source": [
    "viga1.solve_for_reaction_loads(r0,rl)"
   ]
  },
  {
   "cell_type": "code",
   "execution_count": 36,
   "id": "aedca77b-f6d4-48fb-9871-08e9f8830647",
   "metadata": {},
   "outputs": [
    {
     "data": {
      "text/latex": [
       "$\\displaystyle - \\frac{3}{4}$"
      ],
      "text/plain": [
       "-3/4"
      ]
     },
     "execution_count": 36,
     "metadata": {},
     "output_type": "execute_result"
    }
   ],
   "source": [
    "viga1.reaction_loads[r0].subs(dic)"
   ]
  },
  {
   "cell_type": "code",
   "execution_count": 37,
   "id": "0e0f0700-1129-4c2a-9374-1a4a64888a96",
   "metadata": {},
   "outputs": [
    {
     "data": {
      "text/latex": [
       "$\\displaystyle - \\frac{1}{4}$"
      ],
      "text/plain": [
       "-1/4"
      ]
     },
     "execution_count": 37,
     "metadata": {},
     "output_type": "execute_result"
    }
   ],
   "source": [
    "viga1.reaction_loads[rl].subs(dic)"
   ]
  },
  {
   "cell_type": "code",
   "execution_count": 38,
   "id": "26734a24-3e4e-4824-a03e-8f760af12e27",
   "metadata": {},
   "outputs": [
    {
     "data": {
      "text/latex": [
       "$\\displaystyle - \\frac{3 {\\left\\langle x \\right\\rangle}^{-1}}{4} + {\\left\\langle - \\frac{L}{4} + x \\right\\rangle}^{-1} - \\frac{{\\left\\langle - L + x \\right\\rangle}^{-1}}{4}$"
      ],
      "text/plain": [
       "-3*SingularityFunction(x, 0, -1)/4 + SingularityFunction(x, L/4, -1) - SingularityFunction(x, L, -1)/4"
      ]
     },
     "execution_count": 38,
     "metadata": {},
     "output_type": "execute_result"
    }
   ],
   "source": [
    "viga1.load"
   ]
  },
  {
   "cell_type": "code",
   "execution_count": 39,
   "id": "191095d5-2896-460b-b91f-3dace7e14d9d",
   "metadata": {},
   "outputs": [
    {
     "data": {
      "text/latex": [
       "$\\displaystyle \\frac{3 {\\left\\langle x \\right\\rangle}^{0}}{4} - {\\left\\langle - \\frac{L}{4} + x \\right\\rangle}^{0} + \\frac{{\\left\\langle - L + x \\right\\rangle}^{0}}{4}$"
      ],
      "text/plain": [
       "3*SingularityFunction(x, 0, 0)/4 - SingularityFunction(x, L/4, 0) + SingularityFunction(x, L, 0)/4"
      ]
     },
     "execution_count": 39,
     "metadata": {},
     "output_type": "execute_result"
    }
   ],
   "source": [
    "viga1.shear_force()"
   ]
  },
  {
   "cell_type": "code",
   "execution_count": 40,
   "id": "3e7d5673-917f-440e-9e82-998c8ff7e477",
   "metadata": {},
   "outputs": [
    {
     "data": {
      "text/latex": [
       "$\\displaystyle \\frac{3 {\\left\\langle x \\right\\rangle}^{1}}{4} - {\\left\\langle - \\frac{L}{4} + x \\right\\rangle}^{1} + \\frac{{\\left\\langle - L + x \\right\\rangle}^{1}}{4}$"
      ],
      "text/plain": [
       "3*SingularityFunction(x, 0, 1)/4 - SingularityFunction(x, L/4, 1) + SingularityFunction(x, L, 1)/4"
      ]
     },
     "execution_count": 40,
     "metadata": {},
     "output_type": "execute_result"
    }
   ],
   "source": [
    "viga1.bending_moment()"
   ]
  },
  {
   "cell_type": "code",
   "execution_count": 41,
   "id": "46827161-cde1-406b-a404-8802b93bf632",
   "metadata": {},
   "outputs": [
    {
     "data": {
      "text/latex": [
       "$\\displaystyle \\frac{\\frac{7 L^{2}}{128} - \\frac{3 {\\left\\langle x \\right\\rangle}^{2}}{8} + \\frac{{\\left\\langle - \\frac{L}{4} + x \\right\\rangle}^{2}}{2} - \\frac{{\\left\\langle - L + x \\right\\rangle}^{2}}{8}}{E I}$"
      ],
      "text/plain": [
       "(7*L**2/128 - 3*SingularityFunction(x, 0, 2)/8 + SingularityFunction(x, L/4, 2)/2 - SingularityFunction(x, L, 2)/8)/(E*I)"
      ]
     },
     "execution_count": 41,
     "metadata": {},
     "output_type": "execute_result"
    }
   ],
   "source": [
    "viga1.slope()"
   ]
  },
  {
   "cell_type": "code",
   "execution_count": 42,
   "id": "6e10d0a8-c67f-4520-b01c-d64c7befae04",
   "metadata": {},
   "outputs": [
    {
     "data": {
      "text/latex": [
       "$\\displaystyle \\frac{\\frac{7 L^{2} x}{128} - \\frac{{\\left\\langle x \\right\\rangle}^{3}}{8} + \\frac{{\\left\\langle - \\frac{L}{4} + x \\right\\rangle}^{3}}{6} - \\frac{{\\left\\langle - L + x \\right\\rangle}^{3}}{24}}{E I}$"
      ],
      "text/plain": [
       "(7*L**2*x/128 - SingularityFunction(x, 0, 3)/8 + SingularityFunction(x, L/4, 3)/6 - SingularityFunction(x, L, 3)/24)/(E*I)"
      ]
     },
     "execution_count": 42,
     "metadata": {},
     "output_type": "execute_result"
    }
   ],
   "source": [
    "viga1.deflection()"
   ]
  },
  {
   "cell_type": "code",
   "execution_count": 43,
   "id": "67691586-04af-479c-948d-2f5379a5b37c",
   "metadata": {},
   "outputs": [
    {
     "data": {
      "text/latex": [
       "$\\displaystyle \\frac{3 L^{3}}{256 E I}$"
      ],
      "text/plain": [
       "3*L**3/(256*E*I)"
      ]
     },
     "execution_count": 43,
     "metadata": {},
     "output_type": "execute_result"
    }
   ],
   "source": [
    "d11 = viga1.deflection().subs('x', L/4)\n",
    "d11"
   ]
  },
  {
   "cell_type": "code",
   "execution_count": 44,
   "id": "3c02e2a6-0e3b-4c83-8854-0898b0271661",
   "metadata": {},
   "outputs": [
    {
     "data": {
      "text/latex": [
       "$\\displaystyle 8.03424199380341 \\cdot 10^{-5}$"
      ],
      "text/plain": [
       "8.03424199380341e-5"
      ]
     },
     "execution_count": 44,
     "metadata": {},
     "output_type": "execute_result"
    }
   ],
   "source": [
    "d11.subs(dic)  #deflexão em 1 devido a carga aplicada em 1"
   ]
  },
  {
   "cell_type": "code",
   "execution_count": 45,
   "id": "0f0069b0-2ae6-4aa6-89af-866c53a090a9",
   "metadata": {},
   "outputs": [
    {
     "data": {
      "text/latex": [
       "$\\displaystyle \\frac{7 L^{3}}{768 E I}$"
      ],
      "text/plain": [
       "7*L**3/(768*E*I)"
      ]
     },
     "execution_count": 45,
     "metadata": {},
     "output_type": "execute_result"
    }
   ],
   "source": [
    "d12 = viga1.deflection().subs('x',(3*L)/4)\n",
    "d12"
   ]
  },
  {
   "cell_type": "code",
   "execution_count": 46,
   "id": "73dab9f9-4487-493f-a324-3d886fcf31bb",
   "metadata": {},
   "outputs": [
    {
     "data": {
      "text/latex": [
       "$\\displaystyle 6.24885488406932 \\cdot 10^{-5}$"
      ],
      "text/plain": [
       "6.24885488406932e-5"
      ]
     },
     "execution_count": 46,
     "metadata": {},
     "output_type": "execute_result"
    }
   ],
   "source": [
    "d12.subs(dic) #deflexão em 2 devido a carga aplicada em 2"
   ]
  },
  {
   "cell_type": "code",
   "execution_count": 47,
   "id": "97a68bc5-70dc-4f2c-a008-e85242d4b5f7",
   "metadata": {},
   "outputs": [
    {
     "data": {
      "image/png": "[encoded data removed]",
      "text/plain": [
       "<Figure size 432x288 with 1 Axes>"
      ]
     },
     "metadata": {
      "needs_background": "light"
     },
     "output_type": "display_data"
    },
    {
     "data": {
      "text/plain": [
       "<sympy.plotting.plot.Plot at 0x15f3d72a130>"
      ]
     },
     "execution_count": 47,
     "metadata": {},
     "output_type": "execute_result"
    }
   ],
   "source": [
    "viga1.plot_shear_force(dic)"
   ]
  },
  {
   "cell_type": "code",
   "execution_count": 48,
   "id": "44c1fe11-e026-4347-99c3-269ca8fe4449",
   "metadata": {},
   "outputs": [
    {
     "data": {
      "image/png": "[encoded data removed]",
      "text/plain": [
       "<Figure size 432x288 with 1 Axes>"
      ]
     },
     "metadata": {
      "needs_background": "light"
     },
     "output_type": "display_data"
    },
    {
     "data": {
      "text/plain": [
       "<sympy.plotting.plot.Plot at 0x15f3d341bb0>"
      ]
     },
     "execution_count": 48,
     "metadata": {},
     "output_type": "execute_result"
    }
   ],
   "source": [
    "viga1.plot_deflection(dic)"
   ]
  },
  {
   "cell_type": "code",
   "execution_count": 49,
   "id": "3306a973-c1c0-47c5-8be4-524a3c191b25",
   "metadata": {},
   "outputs": [],
   "source": [
    "# Criando uma viga com uma carga pontual em 3*L/4\n",
    "viga2 = Beam(L,E,I)"
   ]
  },
  {
   "cell_type": "code",
   "execution_count": 50,
   "id": "9815e89e-b14f-438a-8dab-6300b1c5670c",
   "metadata": {},
   "outputs": [],
   "source": [
    "viga2.apply_load(1,(3*L)/4,-1)"
   ]
  },
  {
   "cell_type": "code",
   "execution_count": 51,
   "id": "25a7cf8f-a219-4f81-84e9-6e11315a25a6",
   "metadata": {},
   "outputs": [],
   "source": [
    "viga2.apply_support(0,type='pin')\n",
    "viga2.apply_support(L,type='roller')"
   ]
  },
  {
   "cell_type": "code",
   "execution_count": 52,
   "id": "bcee8b42-1aba-4d5b-aa87-7db5355f97c7",
   "metadata": {},
   "outputs": [
    {
     "data": {
      "image/png": "[encoded data removed]",
      "text/plain": [
       "<Figure size 432x288 with 1 Axes>"
      ]
     },
     "metadata": {
      "needs_background": "light"
     },
     "output_type": "display_data"
    }
   ],
   "source": [
    "viga2.draw().show()"
   ]
  },
  {
   "cell_type": "code",
   "execution_count": 53,
   "id": "a0967f4b-d123-4b0e-87cb-0b9cefe00158",
   "metadata": {},
   "outputs": [
    {
     "data": {
      "text/latex": [
       "$\\displaystyle R_{0} {\\left\\langle x \\right\\rangle}^{-1} + R_{L} {\\left\\langle - L + x \\right\\rangle}^{-1} + {\\left\\langle - \\frac{3 L}{4} + x \\right\\rangle}^{-1}$"
      ],
      "text/plain": [
       "R_0*SingularityFunction(x, 0, -1) + R_L*SingularityFunction(x, L, -1) + SingularityFunction(x, 3*L/4, -1)"
      ]
     },
     "execution_count": 53,
     "metadata": {},
     "output_type": "execute_result"
    }
   ],
   "source": [
    "viga2.load"
   ]
  },
  {
   "cell_type": "code",
   "execution_count": 54,
   "id": "e872bfa3-471c-49ec-b53f-66cdd4472712",
   "metadata": {},
   "outputs": [],
   "source": [
    "r0,rl = symbols('R_0 R_L')"
   ]
  },
  {
   "cell_type": "code",
   "execution_count": 55,
   "id": "e5b3a0d1-9499-4454-a13e-6645c04a93bb",
   "metadata": {},
   "outputs": [],
   "source": [
    "viga2.solve_for_reaction_loads(r0,rl)"
   ]
  },
  {
   "cell_type": "code",
   "execution_count": 56,
   "id": "2e7c776d-217a-414e-b95f-443623f3497f",
   "metadata": {},
   "outputs": [
    {
     "data": {
      "text/latex": [
       "$\\displaystyle - \\frac{1}{4}$"
      ],
      "text/plain": [
       "-1/4"
      ]
     },
     "execution_count": 56,
     "metadata": {},
     "output_type": "execute_result"
    }
   ],
   "source": [
    "viga2.reaction_loads[r0].subs(dic)"
   ]
  },
  {
   "cell_type": "code",
   "execution_count": 57,
   "id": "352bf9dd-c833-48cb-bb62-10cdf7cda2ec",
   "metadata": {},
   "outputs": [
    {
     "data": {
      "text/latex": [
       "$\\displaystyle - \\frac{3}{4}$"
      ],
      "text/plain": [
       "-3/4"
      ]
     },
     "execution_count": 57,
     "metadata": {},
     "output_type": "execute_result"
    }
   ],
   "source": [
    "viga2.reaction_loads[rl].subs(dic)"
   ]
  },
  {
   "cell_type": "code",
   "execution_count": 58,
   "id": "e9ae07a5-442c-4734-9cd3-a88a898183fd",
   "metadata": {},
   "outputs": [
    {
     "data": {
      "text/latex": [
       "$\\displaystyle - \\frac{{\\left\\langle x \\right\\rangle}^{-1}}{4} + {\\left\\langle - \\frac{3 L}{4} + x \\right\\rangle}^{-1} - \\frac{3 {\\left\\langle - L + x \\right\\rangle}^{-1}}{4}$"
      ],
      "text/plain": [
       "-SingularityFunction(x, 0, -1)/4 + SingularityFunction(x, 3*L/4, -1) - 3*SingularityFunction(x, L, -1)/4"
      ]
     },
     "execution_count": 58,
     "metadata": {},
     "output_type": "execute_result"
    }
   ],
   "source": [
    "viga2.load"
   ]
  },
  {
   "cell_type": "code",
   "execution_count": 59,
   "id": "f185bf73-45d3-4c83-b067-8d4d605f8f5c",
   "metadata": {},
   "outputs": [
    {
     "data": {
      "text/latex": [
       "$\\displaystyle \\frac{{\\left\\langle x \\right\\rangle}^{0}}{4} - {\\left\\langle - \\frac{3 L}{4} + x \\right\\rangle}^{0} + \\frac{3 {\\left\\langle - L + x \\right\\rangle}^{0}}{4}$"
      ],
      "text/plain": [
       "SingularityFunction(x, 0, 0)/4 - SingularityFunction(x, 3*L/4, 0) + 3*SingularityFunction(x, L, 0)/4"
      ]
     },
     "execution_count": 59,
     "metadata": {},
     "output_type": "execute_result"
    }
   ],
   "source": [
    "viga2.shear_force()"
   ]
  },
  {
   "cell_type": "code",
   "execution_count": 60,
   "id": "2718daee-cbb0-464e-a175-69b4d3568220",
   "metadata": {},
   "outputs": [
    {
     "data": {
      "text/latex": [
       "$\\displaystyle \\frac{{\\left\\langle x \\right\\rangle}^{1}}{4} - {\\left\\langle - \\frac{3 L}{4} + x \\right\\rangle}^{1} + \\frac{3 {\\left\\langle - L + x \\right\\rangle}^{1}}{4}$"
      ],
      "text/plain": [
       "SingularityFunction(x, 0, 1)/4 - SingularityFunction(x, 3*L/4, 1) + 3*SingularityFunction(x, L, 1)/4"
      ]
     },
     "execution_count": 60,
     "metadata": {},
     "output_type": "execute_result"
    }
   ],
   "source": [
    "viga2.bending_moment()"
   ]
  },
  {
   "cell_type": "code",
   "execution_count": 61,
   "id": "26053fd1-af1a-4d83-bd8d-8f2293261a2a",
   "metadata": {},
   "outputs": [
    {
     "data": {
      "text/latex": [
       "$\\displaystyle \\frac{\\frac{5 L^{2}}{128} - \\frac{{\\left\\langle x \\right\\rangle}^{2}}{8} + \\frac{{\\left\\langle - \\frac{3 L}{4} + x \\right\\rangle}^{2}}{2} - \\frac{3 {\\left\\langle - L + x \\right\\rangle}^{2}}{8}}{E I}$"
      ],
      "text/plain": [
       "(5*L**2/128 - SingularityFunction(x, 0, 2)/8 + SingularityFunction(x, 3*L/4, 2)/2 - 3*SingularityFunction(x, L, 2)/8)/(E*I)"
      ]
     },
     "execution_count": 61,
     "metadata": {},
     "output_type": "execute_result"
    }
   ],
   "source": [
    "viga2.slope()"
   ]
  },
  {
   "cell_type": "code",
   "execution_count": 62,
   "id": "65e95871-4ce7-4c30-97b0-2a2f1f4010da",
   "metadata": {},
   "outputs": [
    {
     "data": {
      "text/latex": [
       "$\\displaystyle \\frac{\\frac{5 L^{2} x}{128} - \\frac{{\\left\\langle x \\right\\rangle}^{3}}{24} + \\frac{{\\left\\langle - \\frac{3 L}{4} + x \\right\\rangle}^{3}}{6} - \\frac{{\\left\\langle - L + x \\right\\rangle}^{3}}{8}}{E I}$"
      ],
      "text/plain": [
       "(5*L**2*x/128 - SingularityFunction(x, 0, 3)/24 + SingularityFunction(x, 3*L/4, 3)/6 - SingularityFunction(x, L, 3)/8)/(E*I)"
      ]
     },
     "execution_count": 62,
     "metadata": {},
     "output_type": "execute_result"
    }
   ],
   "source": [
    "viga2.deflection()"
   ]
  },
  {
   "cell_type": "code",
   "execution_count": 63,
   "id": "0e995190-de92-4b6e-865b-64eaf8c78e66",
   "metadata": {},
   "outputs": [
    {
     "data": {
      "text/latex": [
       "$\\displaystyle \\frac{3 L^{3}}{256 E I}$"
      ],
      "text/plain": [
       "3*L**3/(256*E*I)"
      ]
     },
     "execution_count": 63,
     "metadata": {},
     "output_type": "execute_result"
    }
   ],
   "source": [
    "d22 = viga2.deflection().subs('x',(3*L)/4) #deflexão em 2 devido a carga em 2\n",
    "d22"
   ]
  },
  {
   "cell_type": "code",
   "execution_count": 64,
   "id": "6148ff82-1d68-4199-86c2-3d1d29c51f6f",
   "metadata": {},
   "outputs": [
    {
     "data": {
      "text/latex": [
       "$\\displaystyle 8.03424199380341 \\cdot 10^{-5}$"
      ],
      "text/plain": [
       "8.03424199380341e-5"
      ]
     },
     "execution_count": 64,
     "metadata": {},
     "output_type": "execute_result"
    }
   ],
   "source": [
    "d22.subs(dic)"
   ]
  },
  {
   "cell_type": "code",
   "execution_count": 65,
   "id": "448c03f0-9297-4b43-a9ff-58a0d879e425",
   "metadata": {},
   "outputs": [
    {
     "data": {
      "text/latex": [
       "$\\displaystyle \\frac{7 L^{3}}{768 E I}$"
      ],
      "text/plain": [
       "7*L**3/(768*E*I)"
      ]
     },
     "execution_count": 65,
     "metadata": {},
     "output_type": "execute_result"
    }
   ],
   "source": [
    "d21 = viga2.deflection().subs('x',(L)/4) #deflexão em 1 devido a força 2\n",
    "d21"
   ]
  },
  {
   "cell_type": "code",
   "execution_count": 66,
   "id": "aa9bd43b-ca37-4234-91ff-0004b8ba9db8",
   "metadata": {},
   "outputs": [
    {
     "data": {
      "text/latex": [
       "$\\displaystyle 6.24885488406932 \\cdot 10^{-5}$"
      ],
      "text/plain": [
       "6.24885488406932e-5"
      ]
     },
     "execution_count": 66,
     "metadata": {},
     "output_type": "execute_result"
    }
   ],
   "source": [
    "d21.subs(dic)"
   ]
  },
  {
   "cell_type": "code",
   "execution_count": 67,
   "id": "f7f4366c-929e-41e7-a5b0-059fa5762a8d",
   "metadata": {},
   "outputs": [
    {
     "data": {
      "image/png": "[encoded data removed]",
      "text/plain": [
       "<Figure size 432x288 with 1 Axes>"
      ]
     },
     "metadata": {
      "needs_background": "light"
     },
     "output_type": "display_data"
    },
    {
     "data": {
      "text/plain": [
       "<sympy.plotting.plot.Plot at 0x15f3d8fb640>"
      ]
     },
     "execution_count": 67,
     "metadata": {},
     "output_type": "execute_result"
    }
   ],
   "source": [
    "viga2.plot_shear_force(dic)"
   ]
  },
  {
   "cell_type": "code",
   "execution_count": 68,
   "id": "dc3e0883-20db-417d-bf14-88659f2cdd49",
   "metadata": {},
   "outputs": [
    {
     "data": {
      "image/png": "[encoded data removed]",
      "text/plain": [
       "<Figure size 432x288 with 1 Axes>"
      ]
     },
     "metadata": {
      "needs_background": "light"
     },
     "output_type": "display_data"
    },
    {
     "data": {
      "text/plain": [
       "<sympy.plotting.plot.Plot at 0x15f3c2c8f40>"
      ]
     },
     "execution_count": 68,
     "metadata": {},
     "output_type": "execute_result"
    }
   ],
   "source": [
    "viga2.plot_deflection(dic)"
   ]
  },
  {
   "cell_type": "markdown",
   "id": "57c7d10b-9a17-4f09-a0b4-1837cc75ad7c",
   "metadata": {},
   "source": [
    "#### Determinando a frequência pela fórmula de Dunkerley:"
   ]
  },
  {
   "cell_type": "code",
   "execution_count": 69,
   "id": "345ec99d-01b6-4ec0-99ff-1ad4c4984da3",
   "metadata": {},
   "outputs": [],
   "source": [
    "a11, a22, a12, a22, k, F, de, m, w = symbols('a_11 a_22 a_12 a_22 k F delta m omega')"
   ]
  },
  {
   "cell_type": "markdown",
   "id": "eded777d-111e-4adb-9667-e9ac5c70c907",
   "metadata": {},
   "source": [
    "* Encontrando o coeficiente de influência:"
   ]
  },
  {
   "cell_type": "markdown",
   "id": "a5e7d0d1-445a-4659-9e00-5d3a8214ef4a",
   "metadata": {},
   "source": [
    "Podemos definir o coeficiente de influência como sendo $a = \\dfrac{1}{k}$, e podemos escrever k em termos da deflexão, da seguinte maneira: $k = \\dfrac{P}{\\delta}$. De forma que, por simetria, $a_{11} = a_{22} = \\dfrac{3L^3}{256EI}$ e $a_{12} = a_{21} = \\dfrac{7L^3}{768EI}$"
   ]
  },
  {
   "cell_type": "code",
   "execution_count": 70,
   "id": "e4b1afd6-0b82-4cae-8e27-48b223b73efd",
   "metadata": {},
   "outputs": [
    {
     "data": {
      "text/latex": [
       "$\\displaystyle \\frac{3 L^{3}}{256 E I}$"
      ],
      "text/plain": [
       "3*L**3/(256*E*I)"
      ]
     },
     "execution_count": 70,
     "metadata": {},
     "output_type": "execute_result"
    }
   ],
   "source": [
    "a11 = (3*L**3)/(256*E*I)\n",
    "a11"
   ]
  },
  {
   "cell_type": "code",
   "execution_count": 71,
   "id": "d10f2dfb-2f7e-4765-87ea-7faa24581a70",
   "metadata": {},
   "outputs": [
    {
     "data": {
      "text/latex": [
       "$\\displaystyle 8.03424199380341 \\cdot 10^{-5}$"
      ],
      "text/plain": [
       "8.03424199380341e-5"
      ]
     },
     "execution_count": 71,
     "metadata": {},
     "output_type": "execute_result"
    }
   ],
   "source": [
    "a11 = a11.subs(dic)\n",
    "a11"
   ]
  },
  {
   "cell_type": "code",
   "execution_count": 72,
   "id": "d252ff71-3ceb-43b5-9695-0471601cb725",
   "metadata": {},
   "outputs": [
    {
     "data": {
      "text/latex": [
       "$\\displaystyle 6.24885488406932 \\cdot 10^{-5}$"
      ],
      "text/plain": [
       "6.24885488406932e-5"
      ]
     },
     "execution_count": 72,
     "metadata": {},
     "output_type": "execute_result"
    }
   ],
   "source": [
    "a12 = (7*L**3)/(768*E*I)\n",
    "a12 = a12.subs(dic)\n",
    "a12"
   ]
  },
  {
   "cell_type": "code",
   "execution_count": 73,
   "id": "98ff9b5c-e199-46e4-ba9e-53fbf4fe8fef",
   "metadata": {},
   "outputs": [
    {
     "data": {
      "text/latex": [
       "$\\displaystyle 6.24885488406932 \\cdot 10^{-5}$"
      ],
      "text/plain": [
       "6.24885488406932e-5"
      ]
     },
     "execution_count": 73,
     "metadata": {},
     "output_type": "execute_result"
    }
   ],
   "source": [
    "a12 = a12.subs(dic)\n",
    "a12"
   ]
  },
  {
   "cell_type": "code",
   "execution_count": 74,
   "id": "c7fbfe15-fc3e-4789-a5e1-d15735dbf3c9",
   "metadata": {},
   "outputs": [
    {
     "data": {
      "text/latex": [
       "$\\displaystyle \\frac{3 L^{3}}{256 E I}$"
      ],
      "text/plain": [
       "3*L**3/(256*E*I)"
      ]
     },
     "execution_count": 74,
     "metadata": {},
     "output_type": "execute_result"
    }
   ],
   "source": [
    "a22 = (3*L**3)/(256*E*I)\n",
    "a22"
   ]
  },
  {
   "cell_type": "code",
   "execution_count": 75,
   "id": "d56a73b3-1128-420f-af37-bb721cbccbfa",
   "metadata": {},
   "outputs": [
    {
     "data": {
      "text/latex": [
       "$\\displaystyle 8.03424199380341 \\cdot 10^{-5}$"
      ],
      "text/plain": [
       "8.03424199380341e-5"
      ]
     },
     "execution_count": 75,
     "metadata": {},
     "output_type": "execute_result"
    }
   ],
   "source": [
    "a22 = a22.subs(dic)\n",
    "a22"
   ]
  },
  {
   "cell_type": "code",
   "execution_count": 76,
   "id": "e440aaff-bcd5-4b42-87da-de3704ca8de2",
   "metadata": {},
   "outputs": [
    {
     "data": {
      "text/latex": [
       "$\\displaystyle \\frac{7 L^{3}}{768 E I}$"
      ],
      "text/plain": [
       "7*L**3/(768*E*I)"
      ]
     },
     "execution_count": 76,
     "metadata": {},
     "output_type": "execute_result"
    }
   ],
   "source": [
    "a21 = (7*L**3)/(768*E*I)\n",
    "a21"
   ]
  },
  {
   "cell_type": "code",
   "execution_count": 77,
   "id": "8def8329-3798-4d4c-abc8-a9abbcb018c6",
   "metadata": {},
   "outputs": [
    {
     "data": {
      "text/latex": [
       "$\\displaystyle 6.24885488406932 \\cdot 10^{-5}$"
      ],
      "text/plain": [
       "6.24885488406932e-5"
      ]
     },
     "execution_count": 77,
     "metadata": {},
     "output_type": "execute_result"
    }
   ],
   "source": [
    "a21 = a21.subs(dic)\n",
    "a21"
   ]
  },
  {
   "cell_type": "markdown",
   "id": "a77d6e9c-a6b6-4f1f-9edc-8c92882a009d",
   "metadata": {},
   "source": [
    "* A frequência principal é dada por:"
   ]
  },
  {
   "cell_type": "markdown",
   "id": "38c55e68-56cc-4056-a4af-d976120979b4",
   "metadata": {},
   "source": [
    "$\\dfrac{1}{\\omega^2_1} = a_{11}m_2 + a_{22}m_2$, no entanto, $a_{11} = a_{22}$ e $m_1 = m_2$, logo $\\dfrac{1}{\\omega^2_1} = 2am$\n",
    "</br>\n",
    "Isolando $\\omega_1$, temos:"
   ]
  },
  {
   "cell_type": "code",
   "execution_count": 78,
   "id": "8fa4343c-1455-44b2-8365-ed9cf7d51380",
   "metadata": {},
   "outputs": [
    {
     "data": {
      "text/latex": [
       "$\\displaystyle 78.8882910048193 \\left(\\frac{1}{m}\\right)^{0.5}$"
      ],
      "text/plain": [
       "78.8882910048193*(1/m)**0.5"
      ]
     },
     "execution_count": 78,
     "metadata": {},
     "output_type": "execute_result"
    }
   ],
   "source": [
    "w = (1/(a11*m + a22*m))**0.5\n",
    "w"
   ]
  },
  {
   "cell_type": "code",
   "execution_count": 79,
   "id": "86d0c297-4cbc-41ce-8ed8-d5251573cd7a",
   "metadata": {},
   "outputs": [],
   "source": [
    "dic2 = {L:1.2192, P:356, E:207*10**9, I:1.277*10**(-9), m:36.2874}"
   ]
  },
  {
   "cell_type": "code",
   "execution_count": 80,
   "id": "d8b75bf9-97f6-40e6-b16f-b8c069a68172",
   "metadata": {},
   "outputs": [
    {
     "data": {
      "text/latex": [
       "$\\displaystyle 13.0958780375318$"
      ],
      "text/plain": [
       "13.0958780375318"
      ]
     },
     "execution_count": 80,
     "metadata": {},
     "output_type": "execute_result"
    }
   ],
   "source": [
    "w.subs(dic2)"
   ]
  },
  {
   "cell_type": "markdown",
   "id": "2beef453-45aa-4c51-9d33-669773559a23",
   "metadata": {},
   "source": [
    "---"
   ]
  },
  {
   "cell_type": "markdown",
   "id": "5509c5d5-5151-4389-a339-077a157e6a5b",
   "metadata": {},
   "source": [
    "#### Usando o método das equações exatas:"
   ]
  },
  {
   "cell_type": "code",
   "execution_count": 81,
   "id": "d562af5d-9375-47dc-b4e3-900bf0f567e3",
   "metadata": {},
   "outputs": [],
   "source": [
    "z,ml,wl = symbols('z ml w')"
   ]
  },
  {
   "cell_type": "code",
   "execution_count": 82,
   "id": "5fbe0eaa-704e-4970-8246-0acca8b2edf7",
   "metadata": {},
   "outputs": [
    {
     "data": {
      "text/latex": [
       "$\\displaystyle \\left(\\frac{1}{z}\\right)^{0.5}$"
      ],
      "text/plain": [
       "(1/z)**0.5"
      ]
     },
     "execution_count": 82,
     "metadata": {},
     "output_type": "execute_result"
    }
   ],
   "source": [
    "# Nesse método as frequências podem ser calculadas por essa relação:\n",
    "wl = (1/z)**0.5\n",
    "wl"
   ]
  },
  {
   "cell_type": "code",
   "execution_count": 83,
   "id": "44b9ffb1-f60e-4b3d-a03d-38df3fef6234",
   "metadata": {},
   "outputs": [
    {
     "data": {
      "text/latex": [
       "$\\displaystyle 8.03424199380341 \\cdot 10^{-5} m + 6.24885488406932 \\cdot 10^{-5} \\left(m^{2}\\right)^{0.5}$"
      ],
      "text/plain": [
       "8.03424199380341e-5*m + 6.24885488406932e-5*(m**2)**0.5"
      ]
     },
     "execution_count": 83,
     "metadata": {},
     "output_type": "execute_result"
    }
   ],
   "source": [
    "# Podemos achar z da seguinte forma:\n",
    "z = (((a11*m)+(a22*m))/2) + (((((a11*m)+(a22*m))/2)**2)-(m**2)*((a11*a22) - (a12*a21)))**0.5\n",
    "z"
   ]
  },
  {
   "cell_type": "code",
   "execution_count": 84,
   "id": "db8218f3-7484-42d5-a3f1-87170650f0d9",
   "metadata": {},
   "outputs": [
    {
     "data": {
      "text/latex": [
       "$\\displaystyle 0.00518296449646119$"
      ],
      "text/plain": [
       "0.00518296449646119"
      ]
     },
     "execution_count": 84,
     "metadata": {},
     "output_type": "execute_result"
    }
   ],
   "source": [
    "z.subs(dic2)"
   ]
  },
  {
   "cell_type": "code",
   "execution_count": 85,
   "id": "bafc3b09-bce5-4bde-aca4-07bdc729c048",
   "metadata": {},
   "outputs": [
    {
     "data": {
      "text/latex": [
       "$\\displaystyle 13.8902762488961$"
      ],
      "text/plain": [
       "13.8902762488961"
      ]
     },
     "execution_count": 85,
     "metadata": {},
     "output_type": "execute_result"
    }
   ],
   "source": [
    "wl = (1/z.subs(dic2))**0.5  ##primeira frequência\n",
    "wl"
   ]
  },
  {
   "cell_type": "code",
   "execution_count": 86,
   "id": "2893f72b-b0e2-40c0-bb3b-9290e48c5fdd",
   "metadata": {},
   "outputs": [
    {
     "data": {
      "text/latex": [
       "$\\displaystyle 8.03424199380341 \\cdot 10^{-5} m - 6.24885488406932 \\cdot 10^{-5} \\left(m^{2}\\right)^{0.5}$"
      ],
      "text/plain": [
       "8.03424199380341e-5*m - 6.24885488406932e-5*(m**2)**0.5"
      ]
     },
     "execution_count": 86,
     "metadata": {},
     "output_type": "execute_result"
    }
   ],
   "source": [
    "z2 = (((a11*m)+(a22*m))/2) - (((((a11*m)+(a22*m))/2)**2)-(m**2)*((a11*a22) - (a12*a21)))**0.5\n",
    "z2"
   ]
  },
  {
   "cell_type": "code",
   "execution_count": 87,
   "id": "54106d61-c2e6-4e5c-9c90-0b01c5296a24",
   "metadata": {},
   "outputs": [
    {
     "data": {
      "text/latex": [
       "$\\displaystyle 0.000647870562057649$"
      ],
      "text/plain": [
       "0.000647870562057649"
      ]
     },
     "execution_count": 87,
     "metadata": {},
     "output_type": "execute_result"
    }
   ],
   "source": [
    "z2.subs(dic2)"
   ]
  },
  {
   "cell_type": "code",
   "execution_count": 88,
   "id": "28342f24-10b1-43a1-906d-ceb9bb5aa3f6",
   "metadata": {},
   "outputs": [
    {
     "data": {
      "text/latex": [
       "$\\displaystyle 39.2876341125955$"
      ],
      "text/plain": [
       "39.2876341125955"
      ]
     },
     "execution_count": 88,
     "metadata": {},
     "output_type": "execute_result"
    }
   ],
   "source": [
    "wl2 = (1/z2.subs(dic2))**0.5 #segunda frequencia\n",
    "wl2"
   ]
  },
  {
   "cell_type": "code",
   "execution_count": null,
   "id": "8e058709-6c54-45b6-a235-f4405566824f",
   "metadata": {},
   "outputs": [],
   "source": []
  }
 ],
 "metadata": {
  "kernelspec": {
   "display_name": "Python 3",
   "language": "python",
   "name": "python3"
  },
  "language_info": {
   "codemirror_mode": {
    "name": "ipython",
    "version": 3
   },
   "file_extension": ".py",
   "mimetype": "text/x-python",
   "name": "python",
   "nbconvert_exporter": "python",
   "pygments_lexer": "ipython3",
   "version": "3.8.8"
  }
 },
 "nbformat": 4,
 "nbformat_minor": 5
}
