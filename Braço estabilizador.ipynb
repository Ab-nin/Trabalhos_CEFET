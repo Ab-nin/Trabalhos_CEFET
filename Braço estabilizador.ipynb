{
 "cells": [
  {
   "cell_type": "markdown",
   "id": "4ddec5ab-7bcb-47fb-ab3e-adef85f1fc79",
   "metadata": {},
   "source": [
    "# Modelagem do braço estabilizador"
   ]
  },
  {
   "cell_type": "markdown",
   "id": "4b648b8a-e7ca-4888-b57a-13221094dbe1",
   "metadata": {},
   "source": [
    "A equipe de eletrônica e controle da Stardust, visando compreender melhor o funcionamento do protótipo  desenvolvido para mimetizar o comportamento de um drone."
   ]
  },
  {
   "cell_type": "markdown",
   "id": "817ec4a4-06a2-420c-8c2a-bd3dc8d5c2ff",
   "metadata": {},
   "source": [
    "A abordagem a ser utilizada é a Euler-Lagrangeana e apresenta a seguinte formulação:\n",
    "\n",
    "\n",
    "$$\\frac{d}{dt} \\frac{\\partial \\mathcal{L}}{\\partial \\dot{q}} - \\frac{\\partial \\mathcal{L}}{\\partial q_i} + \\frac{\\partial D}{\\partial \\dot{q_i}} = \\frac{\\partial W}{\\partial q} $$\n",
    "\n",
    "onde o índice i se refere ao grau de liberdade do sistema\n",
    "\n"
   ]
  },
  {
   "cell_type": "code",
   "execution_count": 1,
   "id": "c5c0799d-a1c2-45e8-85b9-62bfd97b1fd2",
   "metadata": {
    "tags": []
   },
   "outputs": [],
   "source": [
    "from sympy import *\n",
    "import sympy as sy\n",
    "import sympy.physics.mechanics as me\n",
    "from numpy import *\n",
    "import numpy as np\n",
    "from control import *\n",
    "import matplotlib.pyplot as plt"
   ]
  },
  {
   "cell_type": "markdown",
   "id": "9e434118-9c84-46d8-b349-b24c43cadb8c",
   "metadata": {},
   "source": [
    "## 1º passo: Coordenadas e forças generalizadas"
   ]
  },
  {
   "cell_type": "markdown",
   "id": "63c4cbde-51b5-4fb2-b5a1-c6cad4d50534",
   "metadata": {},
   "source": [
    "Nesse sistema, temos apenas um grau de liberdade, que se refere à rotação que será gerada a partir do acionamento do motor do drone. Dessa forma, temos as seguintes informações:"
   ]
  },
  {
   "cell_type": "code",
   "execution_count": 2,
   "id": "a8b54e89-169b-4471-be7e-22e6f22f7bda",
   "metadata": {
    "tags": []
   },
   "outputs": [],
   "source": [
    "q1,Q1,W,F = sy.symbols('q_1 Q_1 W F')\n",
    "l,m,g = sy.symbols('l m g')\n",
    "theta = me.dynamicsymbols('theta')\n",
    "t = me.dynamicsymbols._t"
   ]
  },
  {
   "cell_type": "markdown",
   "id": "0c130b3c-8e5d-472b-a791-0faccdbc822d",
   "metadata": {},
   "source": [
    "Coordenada generalizada:"
   ]
  },
  {
   "cell_type": "code",
   "execution_count": 3,
   "id": "1579789c-c1ff-43c0-883a-e095b2836bcc",
   "metadata": {
    "tags": []
   },
   "outputs": [
    {
     "data": {
      "text/latex": [
       "$\\displaystyle \\left[\\begin{matrix}\\theta{\\left(t \\right)}\\end{matrix}\\right]$"
      ],
      "text/plain": [
       "Matrix([[theta(t)]])"
      ]
     },
     "execution_count": 3,
     "metadata": {},
     "output_type": "execute_result"
    }
   ],
   "source": [
    "q = Matrix([theta])\n",
    "q"
   ]
  },
  {
   "cell_type": "markdown",
   "id": "9d770278-14fc-4ee6-b94b-d628b939c49d",
   "metadata": {},
   "source": [
    "Força generalida:"
   ]
  },
  {
   "cell_type": "code",
   "execution_count": 4,
   "id": "f0d22ce5-9135-4235-892a-e42b6e555e93",
   "metadata": {
    "tags": []
   },
   "outputs": [
    {
     "data": {
      "text/latex": [
       "$\\displaystyle \\left[\\begin{matrix}W\\end{matrix}\\right]$"
      ],
      "text/plain": [
       "Matrix([[W]])"
      ]
     },
     "execution_count": 4,
     "metadata": {},
     "output_type": "execute_result"
    }
   ],
   "source": [
    "Q = Matrix([W])\n",
    "Q"
   ]
  },
  {
   "cell_type": "markdown",
   "id": "b7ff94f3-4e8e-4ac0-a9e6-234b7e7a2029",
   "metadata": {},
   "source": [
    "## 2º passo: Descrição cinemática"
   ]
  },
  {
   "cell_type": "markdown",
   "id": "e6172b71-1d1b-4023-918b-c203c74525cd",
   "metadata": {},
   "source": [
    "Modelando o braço estabilizador como se fosse um pêndulo, temos a seguinte descrição para a força aplicada na extremidade:"
   ]
  },
  {
   "cell_type": "code",
   "execution_count": 5,
   "id": "d26bd307-dc34-4a77-a43f-65410ab97efd",
   "metadata": {
    "tags": []
   },
   "outputs": [
    {
     "data": {
      "text/latex": [
       "$\\displaystyle \\left[\\begin{matrix}- l \\cos{\\left(\\theta{\\left(t \\right)} \\right)}\\\\- l \\sin{\\left(\\theta{\\left(t \\right)} \\right)}\\end{matrix}\\right]$"
      ],
      "text/plain": [
       "Matrix([\n",
       "[-l*cos(theta(t))],\n",
       "[-l*sin(theta(t))]])"
      ]
     },
     "execution_count": 5,
     "metadata": {},
     "output_type": "execute_result"
    }
   ],
   "source": [
    "r = Matrix([-l*sy.cos(theta),-l*sy.sin(theta)])\n",
    "r"
   ]
  },
  {
   "cell_type": "markdown",
   "id": "d04625dd-cea0-43a4-86c3-b40732df5c9c",
   "metadata": {},
   "source": [
    "A fim de determinar as energias cinéticas, fará-se o cálculo da velocidade do sistema:"
   ]
  },
  {
   "cell_type": "code",
   "execution_count": 6,
   "id": "c9d3cd59-b9ee-4663-813e-a0d26837de59",
   "metadata": {
    "tags": []
   },
   "outputs": [
    {
     "data": {
      "text/latex": [
       "$\\displaystyle \\left[\\begin{matrix}l \\sin{\\left(\\theta{\\left(t \\right)} \\right)} \\frac{d}{d t} \\theta{\\left(t \\right)}\\\\- l \\cos{\\left(\\theta{\\left(t \\right)} \\right)} \\frac{d}{d t} \\theta{\\left(t \\right)}\\end{matrix}\\right]$"
      ],
      "text/plain": [
       "Matrix([\n",
       "[ l*sin(theta(t))*Derivative(theta(t), t)],\n",
       "[-l*cos(theta(t))*Derivative(theta(t), t)]])"
      ]
     },
     "execution_count": 6,
     "metadata": {},
     "output_type": "execute_result"
    }
   ],
   "source": [
    "v = sy.diff(r,t)\n",
    "v"
   ]
  },
  {
   "cell_type": "markdown",
   "id": "21a87fb1-a1d8-4a56-8284-b8a1d2a59470",
   "metadata": {},
   "source": [
    "## 3º passo: Determinando as energias cinética e potencial do sistema"
   ]
  },
  {
   "cell_type": "markdown",
   "id": "1e6e3ab8-52eb-4070-80c4-6252cd02c9ae",
   "metadata": {},
   "source": [
    "A fórmula da energia cinética é dada por:\n",
    "\n",
    "$$ T = \\frac{m}{2} v^{ T}v$$"
   ]
  },
  {
   "cell_type": "code",
   "execution_count": 7,
   "id": "7bdc83d7-215a-4bc8-a5fc-c572085bf9db",
   "metadata": {
    "tags": []
   },
   "outputs": [
    {
     "data": {
      "text/latex": [
       "$\\displaystyle \\left[\\begin{matrix}l^{2} \\sin^{2}{\\left(\\theta{\\left(t \\right)} \\right)} \\left(\\frac{d}{d t} \\theta{\\left(t \\right)}\\right)^{2} + l^{2} \\cos^{2}{\\left(\\theta{\\left(t \\right)} \\right)} \\left(\\frac{d}{d t} \\theta{\\left(t \\right)}\\right)^{2}\\end{matrix}\\right]$"
      ],
      "text/plain": [
       "Matrix([[l**2*sin(theta(t))**2*Derivative(theta(t), t)**2 + l**2*cos(theta(t))**2*Derivative(theta(t), t)**2]])"
      ]
     },
     "execution_count": 7,
     "metadata": {},
     "output_type": "execute_result"
    }
   ],
   "source": [
    "prod_vel = v.transpose() * v\n",
    "prod_vel"
   ]
  },
  {
   "cell_type": "markdown",
   "id": "a74937db-d669-4d90-b949-5580782d0b3e",
   "metadata": {},
   "source": [
    "Logo, a equação da energia cinética fica:"
   ]
  },
  {
   "cell_type": "code",
   "execution_count": 8,
   "id": "b541ae5b-49ba-4bab-ac2d-61f87999fa16",
   "metadata": {
    "tags": []
   },
   "outputs": [
    {
     "data": {
      "text/latex": [
       "$\\displaystyle \\left[\\begin{matrix}\\frac{m \\left(l^{2} \\sin^{2}{\\left(\\theta{\\left(t \\right)} \\right)} \\left(\\frac{d}{d t} \\theta{\\left(t \\right)}\\right)^{2} + l^{2} \\cos^{2}{\\left(\\theta{\\left(t \\right)} \\right)} \\left(\\frac{d}{d t} \\theta{\\left(t \\right)}\\right)^{2}\\right)}{2}\\end{matrix}\\right]$"
      ],
      "text/plain": [
       "Matrix([[m*(l**2*sin(theta(t))**2*Derivative(theta(t), t)**2 + l**2*cos(theta(t))**2*Derivative(theta(t), t)**2)/2]])"
      ]
     },
     "execution_count": 8,
     "metadata": {},
     "output_type": "execute_result"
    }
   ],
   "source": [
    "T = ((m/2) * prod_vel)\n",
    "T"
   ]
  },
  {
   "cell_type": "code",
   "execution_count": 9,
   "id": "6c61f11f-a73b-4caf-8d82-5b95de2b3011",
   "metadata": {
    "tags": []
   },
   "outputs": [
    {
     "data": {
      "text/latex": [
       "$\\displaystyle \\left[\\begin{matrix}\\frac{l^{2} m \\left(\\frac{d}{d t} \\theta{\\left(t \\right)}\\right)^{2}}{2}\\end{matrix}\\right]$"
      ],
      "text/plain": [
       "Matrix([[l**2*m*Derivative(theta(t), t)**2/2]])"
      ]
     },
     "execution_count": 9,
     "metadata": {},
     "output_type": "execute_result"
    }
   ],
   "source": [
    "T_simp = T.applyfunc(lambda x: simplify(x))\n",
    "T_simp"
   ]
  },
  {
   "cell_type": "markdown",
   "id": "955936ab-6fba-4c8b-aaa9-0a3203932010",
   "metadata": {},
   "source": [
    "A energia potencial é dada por:\n",
    "\n",
    "$$U = mgh$$"
   ]
  },
  {
   "cell_type": "code",
   "execution_count": 10,
   "id": "150a6f3f-6291-489e-b065-77df604d2dcc",
   "metadata": {
    "tags": []
   },
   "outputs": [
    {
     "data": {
      "text/latex": [
       "$\\displaystyle - g l m \\cos{\\left(\\theta{\\left(t \\right)} \\right)}$"
      ],
      "text/plain": [
       "-g*l*m*cos(theta(t))"
      ]
     },
     "execution_count": 10,
     "metadata": {},
     "output_type": "execute_result"
    }
   ],
   "source": [
    "U = m * g * (-l*sy.cos(theta))\n",
    "U"
   ]
  },
  {
   "cell_type": "markdown",
   "id": "cd474acc-e416-4b5e-8d06-d9d3798c6718",
   "metadata": {},
   "source": [
    "## 4º passo: Expressão para o termo de viscosidade"
   ]
  },
  {
   "cell_type": "code",
   "execution_count": 11,
   "id": "97610465-5fc7-4471-8587-715941d3f3fb",
   "metadata": {
    "tags": []
   },
   "outputs": [],
   "source": [
    "c = sy.symbols('c')"
   ]
  },
  {
   "cell_type": "code",
   "execution_count": 12,
   "id": "876278aa-6245-467f-841a-896382bbfb25",
   "metadata": {
    "tags": []
   },
   "outputs": [
    {
     "data": {
      "text/latex": [
       "$\\displaystyle \\left[\\begin{matrix}\\frac{c \\left(\\frac{d}{d t} \\theta{\\left(t \\right)}\\right)^{2}}{2}\\end{matrix}\\right]$"
      ],
      "text/plain": [
       "Matrix([[c*Derivative(theta(t), t)**2/2]])"
      ]
     },
     "execution_count": 12,
     "metadata": {},
     "output_type": "execute_result"
    }
   ],
   "source": [
    "D = (c*sy.diff(q,t) *sy.diff(q,t))/2\n",
    "D"
   ]
  },
  {
   "cell_type": "markdown",
   "id": "4e8df495-a9bc-42d0-b061-ef9a9bb69543",
   "metadata": {},
   "source": [
    "Sabendo que $\\mathcal{L} = T - U $, tem-se que:\n",
    "\n",
    "$$\\mathcal{L} = T - U$$\n",
    "\n",
    "$$\\mathcal{L} = T(\\dot{q}) - u(q)$$\n",
    "\n",
    "$$\\frac{d}{dt} \\frac{\\partial T}{\\partial \\dot{\\theta}} + \\frac{\\partial U}{\\partial \\theta} + \\frac{C \\dot{\\theta}}{2} = \\frac{\\partial FL\\theta}{\\partial \\theta}   \\hspace{1cm} (1)$$\n"
   ]
  },
  {
   "cell_type": "markdown",
   "id": "47805d3e-15c1-4169-98b6-5f142fbdff8f",
   "metadata": {},
   "source": [
    "## 5º passo: Obtendo a equação dinâmica do sistema"
   ]
  },
  {
   "cell_type": "markdown",
   "id": "9aa06905-1ccf-4f36-913e-8fb5b9a5b3a7",
   "metadata": {},
   "source": [
    "Resolvendo as derivadas:"
   ]
  },
  {
   "cell_type": "markdown",
   "id": "a01b0eac-8f3d-4681-97c9-4a467be43755",
   "metadata": {},
   "source": [
    "- derivando o termo da energia cinética:"
   ]
  },
  {
   "cell_type": "code",
   "execution_count": 13,
   "id": "45ebff0e-050b-4540-ab1b-a52b6708c617",
   "metadata": {
    "tags": []
   },
   "outputs": [
    {
     "data": {
      "text/latex": [
       "$\\displaystyle \\left[\\begin{matrix}l^{2} m \\frac{d}{d t} \\theta{\\left(t \\right)}\\end{matrix}\\right]$"
      ],
      "text/plain": [
       "Matrix([[l**2*m*Derivative(theta(t), t)]])"
      ]
     },
     "execution_count": 13,
     "metadata": {},
     "output_type": "execute_result"
    }
   ],
   "source": [
    "d1 = sy.diff(T_simp, sy.diff(theta,t))\n",
    "d1"
   ]
  },
  {
   "cell_type": "code",
   "execution_count": 14,
   "id": "c2477a29-894f-4668-a846-cf67305910a7",
   "metadata": {
    "tags": []
   },
   "outputs": [
    {
     "data": {
      "text/latex": [
       "$\\displaystyle \\left[\\begin{matrix}l^{2} m \\frac{d^{2}}{d t^{2}} \\theta{\\left(t \\right)}\\end{matrix}\\right]$"
      ],
      "text/plain": [
       "Matrix([[l**2*m*Derivative(theta(t), (t, 2))]])"
      ]
     },
     "execution_count": 14,
     "metadata": {},
     "output_type": "execute_result"
    }
   ],
   "source": [
    "d2 = sy.diff(d1, t)\n",
    "d2"
   ]
  },
  {
   "cell_type": "markdown",
   "id": "8ee39e2a-14da-4bbe-8cb7-70c805ffe56a",
   "metadata": {},
   "source": [
    "- termo da energia potencial:"
   ]
  },
  {
   "cell_type": "code",
   "execution_count": 15,
   "id": "2dfa20ac-f483-4a5b-818c-f610c67cb549",
   "metadata": {
    "tags": []
   },
   "outputs": [
    {
     "data": {
      "text/latex": [
       "$\\displaystyle g l m \\sin{\\left(\\theta{\\left(t \\right)} \\right)}$"
      ],
      "text/plain": [
       "g*l*m*sin(theta(t))"
      ]
     },
     "execution_count": 15,
     "metadata": {},
     "output_type": "execute_result"
    }
   ],
   "source": [
    "du = sy.diff(U,theta)\n",
    "du"
   ]
  },
  {
   "cell_type": "markdown",
   "id": "64873049-e562-4a1b-b24a-8f10d0862308",
   "metadata": {},
   "source": [
    "Para pequenas oscilações, temos que $sin(\\theta) \\approx \\theta$, logo:"
   ]
  },
  {
   "cell_type": "code",
   "execution_count": 16,
   "id": "b1428969-195a-4932-aec3-3873d2ce7f68",
   "metadata": {
    "tags": []
   },
   "outputs": [
    {
     "data": {
      "text/latex": [
       "$\\displaystyle \\left[\\begin{matrix}g l m \\theta{\\left(t \\right)}\\end{matrix}\\right]$"
      ],
      "text/plain": [
       "Matrix([[g*l*m*theta(t)]])"
      ]
     },
     "execution_count": 16,
     "metadata": {},
     "output_type": "execute_result"
    }
   ],
   "source": [
    "du = Matrix([m*g*l*theta])\n",
    "du"
   ]
  },
  {
   "cell_type": "markdown",
   "id": "f756ccc2-9aea-41a6-b57e-6baf9490b81a",
   "metadata": {},
   "source": [
    "- termo da viscosidade:"
   ]
  },
  {
   "cell_type": "code",
   "execution_count": 17,
   "id": "7f80f49f-264c-47ff-b8f1-42c9494d6dca",
   "metadata": {
    "tags": []
   },
   "outputs": [
    {
     "data": {
      "text/latex": [
       "$\\displaystyle \\left[\\begin{matrix}c \\frac{d}{d t} \\theta{\\left(t \\right)}\\end{matrix}\\right]$"
      ],
      "text/plain": [
       "Matrix([[c*Derivative(theta(t), t)]])"
      ]
     },
     "execution_count": 17,
     "metadata": {},
     "output_type": "execute_result"
    }
   ],
   "source": [
    "d3 = sy.diff(D,sy.diff(theta,t))\n",
    "d3"
   ]
  },
  {
   "cell_type": "markdown",
   "id": "a6651193-03a5-4696-a176-a3033db32cb8",
   "metadata": {},
   "source": [
    "- substituindo os resultados na equação 1, tem-se:"
   ]
  },
  {
   "cell_type": "code",
   "execution_count": 18,
   "id": "55634442-9e11-4e01-a049-e7971fd45dbe",
   "metadata": {
    "tags": []
   },
   "outputs": [
    {
     "data": {
      "text/latex": [
       "$\\displaystyle \\left[\\begin{matrix}c \\frac{d}{d t} \\theta{\\left(t \\right)} + g l m \\theta{\\left(t \\right)} + l^{2} m \\frac{d^{2}}{d t^{2}} \\theta{\\left(t \\right)}\\end{matrix}\\right]$"
      ],
      "text/plain": [
       "Matrix([[c*Derivative(theta(t), t) + g*l*m*theta(t) + l**2*m*Derivative(theta(t), (t, 2))]])"
      ]
     },
     "execution_count": 18,
     "metadata": {},
     "output_type": "execute_result"
    }
   ],
   "source": [
    "eq1 = d2 + du + d3\n",
    "eq1"
   ]
  },
  {
   "cell_type": "code",
   "execution_count": 19,
   "id": "87304b99-b603-4389-a495-20d60990e02c",
   "metadata": {
    "tags": []
   },
   "outputs": [
    {
     "data": {
      "text/latex": [
       "$\\displaystyle c \\frac{d}{d t} \\theta{\\left(t \\right)} + g l m \\theta{\\left(t \\right)} + l^{2} m \\frac{d^{2}}{d t^{2}} \\theta{\\left(t \\right)}$"
      ],
      "text/plain": [
       "c*Derivative(theta(t), t) + g*l*m*theta(t) + l**2*m*Derivative(theta(t), (t, 2))"
      ]
     },
     "execution_count": 19,
     "metadata": {},
     "output_type": "execute_result"
    }
   ],
   "source": [
    "eq_alg = eq1[0]\n",
    "eq_alg"
   ]
  },
  {
   "cell_type": "code",
   "execution_count": 20,
   "id": "a6f0d975-ee6a-4e7e-bdc9-89b8adea9ca0",
   "metadata": {
    "tags": []
   },
   "outputs": [
    {
     "data": {
      "text/latex": [
       "$\\displaystyle c \\frac{d}{d t} \\theta{\\left(t \\right)} + g l m \\theta{\\left(t \\right)} + l^{2} m \\frac{d^{2}}{d t^{2}} \\theta{\\left(t \\right)} = F l$"
      ],
      "text/plain": [
       "Eq(c*Derivative(theta(t), t) + g*l*m*theta(t) + l**2*m*Derivative(theta(t), (t, 2)), F*l)"
      ]
     },
     "execution_count": 20,
     "metadata": {},
     "output_type": "execute_result"
    }
   ],
   "source": [
    "eq2 = sy.Eq(eq_alg, F*l)\n",
    "eq2"
   ]
  },
  {
   "cell_type": "markdown",
   "id": "935e6ab6-a241-413a-b79e-db95bf136328",
   "metadata": {},
   "source": [
    "A partir de agora, trabalharemos em função do domínio da frequência. Para isto, aplicará-se a transformada de Laplace na equação a cima."
   ]
  },
  {
   "cell_type": "markdown",
   "id": "ea4aaf8d-a790-465e-8797-035fa187f427",
   "metadata": {},
   "source": [
    "$$(ml^2s^2 + cs + mgl)\\theta(s) = F(s)l $$"
   ]
  },
  {
   "cell_type": "code",
   "execution_count": 21,
   "id": "191e4714-4e21-4b4f-b901-cbdc9cdcd61c",
   "metadata": {
    "tags": []
   },
   "outputs": [],
   "source": [
    "s = sy.symbols('s')"
   ]
  },
  {
   "cell_type": "code",
   "execution_count": 22,
   "id": "43f49839-dd4e-4ad2-8aca-5695667902ac",
   "metadata": {
    "tags": []
   },
   "outputs": [
    {
     "data": {
      "text/latex": [
       "$\\displaystyle \\frac{l}{c s + g l m + l^{2} m s^{2}}$"
      ],
      "text/plain": [
       "l/(c*s + g*l*m + l**2*m*s**2)"
      ]
     },
     "execution_count": 22,
     "metadata": {},
     "output_type": "execute_result"
    }
   ],
   "source": [
    "frac_L = l/((m * l**2 * s**2) + (c * s) + (m * g * l))\n",
    "frac_L"
   ]
  },
  {
   "cell_type": "markdown",
   "id": "8a4ad741-0f9f-4a2c-b942-f819f31b3146",
   "metadata": {},
   "source": [
    "## 6º Passo: Realizando o controle sobre o sistema"
   ]
  },
  {
   "cell_type": "markdown",
   "id": "7ff03e6d-84b9-4da8-bf89-59930859866f",
   "metadata": {},
   "source": [
    "A função acima representa a função de transferência da planta, em malha aberta, sem o controlador agindo sobre ela, e pode-se representá-la da seguinte maneira, usando a biblioteca de controle:"
   ]
  },
  {
   "cell_type": "code",
   "execution_count": 23,
   "id": "2ccf8204-cb50-4436-829f-239b3e70a1c6",
   "metadata": {
    "tags": []
   },
   "outputs": [],
   "source": [
    "# Atribuindo valores numéricos às variáveis do sistema\n",
    "m = 0.2   # massa do motor em Kg\n",
    "l = 0.03  # comprimento do braço em m\n",
    "c = 0.01  # constante de amortecimento N·s/m\n",
    "g = 9.81  # aceleração da gravidade em m/s^2"
   ]
  },
  {
   "cell_type": "code",
   "execution_count": 24,
   "id": "530fe658-18fd-4688-b7da-10e29bb79e33",
   "metadata": {
    "tags": []
   },
   "outputs": [
    {
     "data": {
      "text/latex": [
       "$$\\frac{0.03}{0.00018 s^2 + 0.01 s + 0.2943}$$"
      ],
      "text/plain": [
       "TransferFunction(array([0.03]), array([1.800e-04, 1.000e-02, 2.943e-01]))"
      ]
     },
     "execution_count": 24,
     "metadata": {},
     "output_type": "execute_result"
    }
   ],
   "source": [
    "G_P = tf([l],[m*l**2, c, g*l])\n",
    "G_P"
   ]
  },
  {
   "cell_type": "markdown",
   "id": "3eeb42c8-4052-4dba-8003-51e9ab57e25b",
   "metadata": {},
   "source": [
    "Escrevendo a função do controlador PID"
   ]
  },
  {
   "cell_type": "code",
   "execution_count": 25,
   "id": "bc07d2d3-b554-44d0-a5da-5940ad60cf70",
   "metadata": {
    "tags": []
   },
   "outputs": [],
   "source": [
    "kp,kd,ki = sy.symbols('kp kd ki')"
   ]
  },
  {
   "cell_type": "code",
   "execution_count": 26,
   "id": "4ee81eab-5b41-4bdf-888c-50da6d948e22",
   "metadata": {
    "tags": []
   },
   "outputs": [],
   "source": [
    "# Atribuindo valores às constantes de ganho:\n",
    "kp = 15\n",
    "kd = 0.5\n",
    "ki = 350"
   ]
  },
  {
   "cell_type": "code",
   "execution_count": 27,
   "id": "ffe4fc4b-dbfc-4edb-97b5-1e003fa3001f",
   "metadata": {
    "tags": []
   },
   "outputs": [],
   "source": [
    "G_C_1 = parallel(tf([kd],[1,0,0]),tf([ki],[1,0]),tf([kp],1))"
   ]
  },
  {
   "cell_type": "markdown",
   "id": "649ed88d-2388-4d07-988b-8b95ea170546",
   "metadata": {},
   "source": [
    "Resolvendo a realimentação, e por conseguinte fechando a malha:"
   ]
  },
  {
   "cell_type": "code",
   "execution_count": 28,
   "id": "f18a9dbc-3794-4144-8ed2-686648a34c53",
   "metadata": {
    "tags": []
   },
   "outputs": [
    {
     "data": {
      "text/latex": [
       "$$\\frac{0.45 s^3 + 10.5 s^2 + 0.015 s}{0.00018 s^5 + 0.01 s^4 + 0.7443 s^3 + 10.5 s^2 + 0.015 s}$$"
      ],
      "text/plain": [
       "TransferFunction(array([ 0.45 , 10.5  ,  0.015,  0.   ]), array([1.800e-04, 1.000e-02, 7.443e-01, 1.050e+01, 1.500e-02, 0.000e+00]))"
      ]
     },
     "execution_count": 28,
     "metadata": {},
     "output_type": "execute_result"
    }
   ],
   "source": [
    "G1 = feedback(series(G_P,G_C_1),1)\n",
    "G1"
   ]
  },
  {
   "cell_type": "code",
   "execution_count": 29,
   "id": "b6c65d57-4394-46af-b7a1-c0d69f07c22f",
   "metadata": {
    "tags": []
   },
   "outputs": [],
   "source": [
    "t_n = np.linspace(0,1,1000)"
   ]
  },
  {
   "cell_type": "markdown",
   "id": "8cc2461c-5370-4408-ae78-d8e15a21a216",
   "metadata": {},
   "source": [
    "Definindo o setpoint:"
   ]
  },
  {
   "cell_type": "code",
   "execution_count": 30,
   "id": "0ef9d984-12f1-4c33-aab5-6297c7be81bd",
   "metadata": {
    "tags": []
   },
   "outputs": [],
   "source": [
    "u = 20*np.ones(1000)"
   ]
  },
  {
   "cell_type": "code",
   "execution_count": 31,
   "id": "8e50ce80-390f-4fa8-9744-4bade19ed39d",
   "metadata": {
    "tags": []
   },
   "outputs": [],
   "source": [
    "t1,y1 = forced_response(G1,t_n,u)"
   ]
  },
  {
   "cell_type": "code",
   "execution_count": 32,
   "id": "7ce6f5f8-aa23-4c10-a106-6f3a8e53cebc",
   "metadata": {
    "tags": []
   },
   "outputs": [
    {
     "data": {
      "text/plain": [
       "<function matplotlib.pyplot.show(close=None, block=None)>"
      ]
     },
     "execution_count": 32,
     "metadata": {},
     "output_type": "execute_result"
    },
    {
     "data": {
      "image/png": "[encoded data removed]",
      "text/plain": [
       "<Figure size 960x720 with 1 Axes>"
      ]
     },
     "metadata": {},
     "output_type": "display_data"
    }
   ],
   "source": [
    "plt.figure(dpi = 150)\n",
    "plt.plot(t_n,u)\n",
    "plt.plot(t1,y1)\n",
    "plt.xlabel('Tempo[s]')\n",
    "plt.ylabel('theta [grau]')\n",
    "plt.grid(True)\n",
    "plt.show"
   ]
  },
  {
   "cell_type": "code",
   "execution_count": null,
   "id": "224b3eb5-ea99-486b-a0ee-b9bbbfa3bae1",
   "metadata": {},
   "outputs": [],
   "source": []
  },
  {
   "cell_type": "code",
   "execution_count": null,
   "id": "c811ff6d-288d-49fe-bf95-a3a874e2f5fe",
   "metadata": {},
   "outputs": [],
   "source": []
  },
  {
   "cell_type": "code",
   "execution_count": null,
   "id": "63b2f54e-103e-4da0-b8a8-731af3f9469a",
   "metadata": {},
   "outputs": [],
   "source": []
  },
  {
   "cell_type": "code",
   "execution_count": null,
   "id": "4700c8a0-cf8a-4365-9aa6-8ed4a6b592a0",
   "metadata": {},
   "outputs": [],
   "source": []
  },
  {
   "cell_type": "code",
   "execution_count": null,
   "id": "f1abe45b-1221-4b4d-a47b-ef100945489e",
   "metadata": {},
   "outputs": [],
   "source": []
  }
 ],
 "metadata": {
  "kernelspec": {
   "display_name": "Python 3 (ipykernel)",
   "language": "python",
   "name": "python3"
  },
  "language_info": {
   "codemirror_mode": {
    "name": "ipython",
    "version": 3
   },
   "file_extension": ".py",
   "mimetype": "text/x-python",
   "name": "python",
   "nbconvert_exporter": "python",
   "pygments_lexer": "ipython3",
   "version": "3.11.4"
  }
 },
 "nbformat": 4,
 "nbformat_minor": 5
}
