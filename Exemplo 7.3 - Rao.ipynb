{
 "cells": [
  {
   "cell_type": "code",
   "execution_count": 1,
   "id": "46d31045-21ea-496b-acaf-ee6aaf153086",
   "metadata": {},
   "outputs": [],
   "source": [
    "from sympy import *\n",
    "from sympy.physics.continuum_mechanics import Beam\n",
    "from numpy import *\n",
    "import numpy as np\n",
    "import pandas as pd\n",
    "import matplotlib.pyplot as plt"
   ]
  },
  {
   "cell_type": "code",
   "execution_count": 2,
   "id": "219b0c83-571e-403f-ad4c-2fb480f45210",
   "metadata": {},
   "outputs": [],
   "source": [
    "R0,RL,P,x,s = symbols('R0 R_L P x s')\n",
    "L,E,I = symbols('L E I ', positive = True)"
   ]
  },
  {
   "cell_type": "code",
   "execution_count": 3,
   "id": "fe425833-2637-4b28-9610-a7641097f89a",
   "metadata": {},
   "outputs": [],
   "source": [
    "viga = Beam(10,E,I)"
   ]
  },
  {
   "cell_type": "code",
   "execution_count": 4,
   "id": "b0760d3f-8d18-489b-ade9-6640fb5cd244",
   "metadata": {},
   "outputs": [],
   "source": [
    "viga.apply_load(196.2,1,-1)\n",
    "viga.apply_load(490.5,4,-1)\n",
    "viga.apply_load(392.4,8,-1)"
   ]
  },
  {
   "cell_type": "code",
   "execution_count": 5,
   "id": "3a1ff22f-c3f8-413e-8db6-6d60b57ac3f4",
   "metadata": {},
   "outputs": [],
   "source": [
    "viga.apply_support(0,type='pin')\n",
    "viga.apply_support(10,type='roller')"
   ]
  },
  {
   "cell_type": "code",
   "execution_count": 6,
   "id": "2c43dfb7-0da7-482e-a78d-122d0abf090e",
   "metadata": {},
   "outputs": [
    {
     "name": "stderr",
     "output_type": "stream",
     "text": [
      "C:\\Users\\abner\\anaconda3\\lib\\site-packages\\sympy\\plotting\\plot.py:1376: MatplotlibDeprecationWarning: The 's' parameter of annotate() has been renamed 'text' since Matplotlib 3.3; support for the old name will be dropped two minor releases later.\n",
      "  ax.annotate(**a)\n"
     ]
    },
    {
     "data": {
      "image/png": "[encoded data removed]",
      "text/plain": [
       "<Figure size 432x288 with 1 Axes>"
      ]
     },
     "metadata": {
      "needs_background": "light"
     },
     "output_type": "display_data"
    }
   ],
   "source": [
    "viga.draw().show()"
   ]
  },
  {
   "cell_type": "code",
   "execution_count": 7,
   "id": "47bebd85-91fa-4611-8ca9-b956bf994375",
   "metadata": {},
   "outputs": [
    {
     "data": {
      "text/latex": [
       "$\\displaystyle R_{0} {\\left\\langle x \\right\\rangle}^{-1} + R_{10} {\\left\\langle x - 10 \\right\\rangle}^{-1} + 196.2 {\\left\\langle x - 1 \\right\\rangle}^{-1} + 490.5 {\\left\\langle x - 4 \\right\\rangle}^{-1} + 392.4 {\\left\\langle x - 8 \\right\\rangle}^{-1}$"
      ],
      "text/plain": [
       "R_0*SingularityFunction(x, 0, -1) + R_10*SingularityFunction(x, 10, -1) + 196.2*SingularityFunction(x, 1, -1) + 490.5*SingularityFunction(x, 4, -1) + 392.4*SingularityFunction(x, 8, -1)"
      ]
     },
     "execution_count": 7,
     "metadata": {},
     "output_type": "execute_result"
    }
   ],
   "source": [
    "viga.load"
   ]
  },
  {
   "cell_type": "code",
   "execution_count": 8,
   "id": "c9984fcf-9950-4854-914d-7df3369d8215",
   "metadata": {},
   "outputs": [],
   "source": [
    "r0,r10 = symbols('R_0 R_10')"
   ]
  },
  {
   "cell_type": "code",
   "execution_count": 9,
   "id": "b8f14934-7686-4d2e-bf30-7ec88e2f8fdb",
   "metadata": {},
   "outputs": [],
   "source": [
    "viga.solve_for_reaction_loads(r0,r10)"
   ]
  },
  {
   "cell_type": "code",
   "execution_count": 10,
   "id": "de8ecb5a-99a8-4056-a1f1-02dd2374fe82",
   "metadata": {},
   "outputs": [
    {
     "data": {
      "text/latex": [
       "$\\displaystyle -549.36$"
      ],
      "text/plain": [
       "-549.360000000000"
      ]
     },
     "execution_count": 10,
     "metadata": {},
     "output_type": "execute_result"
    }
   ],
   "source": [
    "viga.reaction_loads[r0]"
   ]
  },
  {
   "cell_type": "code",
   "execution_count": 11,
   "id": "f1b31302-f64b-4017-b008-c6127faaa3d5",
   "metadata": {},
   "outputs": [
    {
     "data": {
      "text/latex": [
       "$\\displaystyle -529.74$"
      ],
      "text/plain": [
       "-529.740000000000"
      ]
     },
     "execution_count": 11,
     "metadata": {},
     "output_type": "execute_result"
    }
   ],
   "source": [
    "viga.reaction_loads[r10]"
   ]
  },
  {
   "cell_type": "code",
   "execution_count": 12,
   "id": "926f67d3-1cf2-49db-a0fc-6b8ca4e51507",
   "metadata": {},
   "outputs": [
    {
     "data": {
      "text/latex": [
       "$\\displaystyle - 549.36 {\\left\\langle x \\right\\rangle}^{-1} + 196.2 {\\left\\langle x - 1 \\right\\rangle}^{-1} + 490.5 {\\left\\langle x - 4 \\right\\rangle}^{-1} + 392.4 {\\left\\langle x - 8 \\right\\rangle}^{-1} - 529.74 {\\left\\langle x - 10 \\right\\rangle}^{-1}$"
      ],
      "text/plain": [
       "-549.36*SingularityFunction(x, 0, -1) + 196.2*SingularityFunction(x, 1, -1) + 490.5*SingularityFunction(x, 4, -1) + 392.4*SingularityFunction(x, 8, -1) - 529.74*SingularityFunction(x, 10, -1)"
      ]
     },
     "execution_count": 12,
     "metadata": {},
     "output_type": "execute_result"
    }
   ],
   "source": [
    "viga.load"
   ]
  },
  {
   "cell_type": "code",
   "execution_count": 13,
   "id": "7247c79d-b5e0-4084-9e7f-9edcc35c311e",
   "metadata": {},
   "outputs": [
    {
     "data": {
      "text/latex": [
       "$\\displaystyle 549.36 {\\left\\langle x \\right\\rangle}^{0} - 196.2 {\\left\\langle x - 1 \\right\\rangle}^{0} - 490.5 {\\left\\langle x - 4 \\right\\rangle}^{0} - 392.4 {\\left\\langle x - 8 \\right\\rangle}^{0} + 529.74 {\\left\\langle x - 10 \\right\\rangle}^{0}$"
      ],
      "text/plain": [
       "549.36*SingularityFunction(x, 0, 0) - 196.2*SingularityFunction(x, 1, 0) - 490.5*SingularityFunction(x, 4, 0) - 392.4*SingularityFunction(x, 8, 0) + 529.74*SingularityFunction(x, 10, 0)"
      ]
     },
     "execution_count": 13,
     "metadata": {},
     "output_type": "execute_result"
    }
   ],
   "source": [
    "viga.shear_force()"
   ]
  },
  {
   "cell_type": "code",
   "execution_count": 14,
   "id": "fea6a51a-aca2-4a3b-9b38-5009f3c424dc",
   "metadata": {},
   "outputs": [
    {
     "data": {
      "text/latex": [
       "$\\displaystyle 549.36 {\\left\\langle x \\right\\rangle}^{1} - 196.2 {\\left\\langle x - 1 \\right\\rangle}^{1} - 490.5 {\\left\\langle x - 4 \\right\\rangle}^{1} - 392.4 {\\left\\langle x - 8 \\right\\rangle}^{1} + 529.74 {\\left\\langle x - 10 \\right\\rangle}^{1}$"
      ],
      "text/plain": [
       "549.36*SingularityFunction(x, 0, 1) - 196.2*SingularityFunction(x, 1, 1) - 490.5*SingularityFunction(x, 4, 1) - 392.4*SingularityFunction(x, 8, 1) + 529.74*SingularityFunction(x, 10, 1)"
      ]
     },
     "execution_count": 14,
     "metadata": {},
     "output_type": "execute_result"
    }
   ],
   "source": [
    "viga.bending_moment()"
   ]
  },
  {
   "cell_type": "code",
   "execution_count": 15,
   "id": "3c3999f3-0436-4ada-8b01-34139f5020de",
   "metadata": {},
   "outputs": [
    {
     "data": {
      "text/latex": [
       "$\\displaystyle \\frac{- 274.68 {\\left\\langle x \\right\\rangle}^{2} + 98.1 {\\left\\langle x - 1 \\right\\rangle}^{2} + 245.25 {\\left\\langle x - 4 \\right\\rangle}^{2} + 196.2 {\\left\\langle x - 8 \\right\\rangle}^{2} - 264.87 {\\left\\langle x - 10 \\right\\rangle}^{2} + 4954.05}{E I}$"
      ],
      "text/plain": [
       "(-274.68*SingularityFunction(x, 0, 2) + 98.1*SingularityFunction(x, 1, 2) + 245.25*SingularityFunction(x, 4, 2) + 196.2*SingularityFunction(x, 8, 2) - 264.87*SingularityFunction(x, 10, 2) + 4954.05)/(E*I)"
      ]
     },
     "execution_count": 15,
     "metadata": {},
     "output_type": "execute_result"
    }
   ],
   "source": [
    "viga.slope()"
   ]
  },
  {
   "cell_type": "code",
   "execution_count": 16,
   "id": "3a01ef1d-b86f-4f3a-9149-8c9e3003cfb5",
   "metadata": {},
   "outputs": [
    {
     "data": {
      "text/latex": [
       "$\\displaystyle \\frac{4954.05 x - 91.56 {\\left\\langle x \\right\\rangle}^{3} + 32.7 {\\left\\langle x - 1 \\right\\rangle}^{3} + 81.75 {\\left\\langle x - 4 \\right\\rangle}^{3} + 65.4 {\\left\\langle x - 8 \\right\\rangle}^{3} - 88.29 {\\left\\langle x - 10 \\right\\rangle}^{3}}{E I}$"
      ],
      "text/plain": [
       "(4954.05*x - 91.56*SingularityFunction(x, 0, 3) + 32.7*SingularityFunction(x, 1, 3) + 81.75*SingularityFunction(x, 4, 3) + 65.4*SingularityFunction(x, 8, 3) - 88.29*SingularityFunction(x, 10, 3))/(E*I)"
      ]
     },
     "execution_count": 16,
     "metadata": {},
     "output_type": "execute_result"
    }
   ],
   "source": [
    "viga.deflection()"
   ]
  },
  {
   "cell_type": "code",
   "execution_count": 17,
   "id": "116b6cc9-fdd3-401a-a0a7-4b7b68a6aaa7",
   "metadata": {},
   "outputs": [],
   "source": [
    "dic = {E:2.07*10**11, I: 4.9*10**(-6)}"
   ]
  },
  {
   "cell_type": "code",
   "execution_count": 18,
   "id": "8c77c42f-5967-410b-8a95-99e6f6eff973",
   "metadata": {},
   "outputs": [
    {
     "data": {
      "text/latex": [
       "$\\displaystyle 0.00479393670511683$"
      ],
      "text/plain": [
       "0.00479393670511683"
      ]
     },
     "execution_count": 18,
     "metadata": {},
     "output_type": "execute_result"
    }
   ],
   "source": [
    "dfl1 = viga.deflection().subs('x',1)\n",
    "w1 = dfl1.subs(dic)\n",
    "w1"
   ]
  },
  {
   "cell_type": "code",
   "execution_count": 19,
   "id": "b5b06b95-7558-417b-84d4-52f746ffe40d",
   "metadata": {},
   "outputs": [
    {
     "data": {
      "text/latex": [
       "$\\displaystyle 0.014630050280982$"
      ],
      "text/plain": [
       "0.0146300502809820"
      ]
     },
     "execution_count": 19,
     "metadata": {},
     "output_type": "execute_result"
    }
   ],
   "source": [
    "dfl2 = viga.deflection().subs('x',4)\n",
    "w2 = dfl2.subs(dic)\n",
    "w2"
   ]
  },
  {
   "cell_type": "code",
   "execution_count": 20,
   "id": "3d8d0508-8ff1-48ae-af26-6a4d436ad8cf",
   "metadata": {},
   "outputs": [
    {
     "data": {
      "text/latex": [
       "$\\displaystyle 0.009072049689441$"
      ],
      "text/plain": [
       "0.00907204968944100"
      ]
     },
     "execution_count": 20,
     "metadata": {},
     "output_type": "execute_result"
    }
   ],
   "source": [
    "dfl3 = viga.deflection().subs('x',8)\n",
    "w3 = dfl3.subs(dic)\n",
    "w3"
   ]
  },
  {
   "cell_type": "code",
   "execution_count": 21,
   "id": "6d6e725b-f01a-49e6-bff3-a647bf1de8c6",
   "metadata": {},
   "outputs": [],
   "source": [
    "om,d1,d2,d3,g, m1, m2, m3 = symbols('omega delta_1 delta_2 delta_3 g m_1 m_2 m_3')"
   ]
  },
  {
   "cell_type": "code",
   "execution_count": 22,
   "id": "4285a938-32a8-4e0c-ae3b-af5d234581c7",
   "metadata": {},
   "outputs": [],
   "source": [
    "#d1 = dfl1\n",
    "#d2 = dfl2\n",
    "#d3 = dfl3"
   ]
  },
  {
   "cell_type": "code",
   "execution_count": 23,
   "id": "eb30f0d0-ecd8-4b4a-b001-98815aec4b03",
   "metadata": {},
   "outputs": [
    {
     "data": {
      "text/latex": [
       "$\\displaystyle \\left(\\frac{g \\left(\\delta_{1} m_{1} + \\delta_{2} m_{2} + \\delta_{3} m_{3}\\right)}{\\delta_{1}^{2} m_{1} + \\delta_{2}^{2} m_{2} + \\delta_{3}^{2} m_{3}}\\right)^{0.5}$"
      ],
      "text/plain": [
       "(g*(delta_1*m_1 + delta_2*m_2 + delta_3*m_3)/(delta_1**2*m_1 + delta_2**2*m_2 + delta_3**2*m_3))**0.5"
      ]
     },
     "execution_count": 23,
     "metadata": {},
     "output_type": "execute_result"
    }
   ],
   "source": [
    "om = (g*((m1*d1)+(m2*d2)+(m3*d3))/((m1*(d1**2))+(m2*(d2**2))+(m3*(d3**2))))**0.5\n",
    "om"
   ]
  },
  {
   "cell_type": "code",
   "execution_count": 24,
   "id": "23898a5b-3f25-4190-92b9-035bebb86830",
   "metadata": {},
   "outputs": [],
   "source": [
    "dic1 = {g:9.81,m1:20,m2:50,m3:40,d1:w1,d2:w2,d3:w3}"
   ]
  },
  {
   "cell_type": "code",
   "execution_count": 25,
   "id": "06a08ff9-b177-4052-80a6-0206a2697b68",
   "metadata": {},
   "outputs": [
    {
     "data": {
      "text/latex": [
       "$\\displaystyle 28.4228365939921$"
      ],
      "text/plain": [
       "28.4228365939921"
      ]
     },
     "execution_count": 25,
     "metadata": {},
     "output_type": "execute_result"
    }
   ],
   "source": [
    "om.subs(dic1)"
   ]
  }
 ],
 "metadata": {
  "kernelspec": {
   "display_name": "Python 3",
   "language": "python",
   "name": "python3"
  },
  "language_info": {
   "codemirror_mode": {
    "name": "ipython",
    "version": 3
   },
   "file_extension": ".py",
   "mimetype": "text/x-python",
   "name": "python",
   "nbconvert_exporter": "python",
   "pygments_lexer": "ipython3",
   "version": "3.8.8"
  }
 },
 "nbformat": 4,
 "nbformat_minor": 5
}
